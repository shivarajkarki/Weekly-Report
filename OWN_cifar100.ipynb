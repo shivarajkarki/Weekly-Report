{
 "cells": [
  {
   "cell_type": "code",
   "execution_count": 1,
   "metadata": {},
   "outputs": [
    {
     "name": "stderr",
     "output_type": "stream",
     "text": [
      "Using TensorFlow backend.\n"
     ]
    }
   ],
   "source": [
    "from __future__ import print_function\n",
    "import tensorflow as tf\n",
    "from keras.datasets import cifar100\n",
    "import keras as k\n",
    "\n",
    "\n",
    "import keras\n",
    "from keras.datasets import cifar100\n",
    "from keras.models import Sequential\n",
    "from keras.layers import Dense, Dropout, Activation, Flatten\n",
    "from keras.layers import Conv2D, MaxPooling2D, ZeroPadding2D\n",
    "from keras.optimizers import SGD\n",
    "from keras.regularizers import l2\n",
    "from keras.callbacks import Callback, LearningRateScheduler, TensorBoard, ModelCheckpoint\n",
    "from keras.preprocessing.image import ImageDataGenerator\n",
    "from keras.utils import print_summary, to_categorical\n",
    "from keras import backend as K\n",
    "import sys\n",
    "import os\n",
    "import numpy as np"
   ]
  },
  {
   "cell_type": "code",
   "execution_count": 2,
   "metadata": {},
   "outputs": [],
   "source": [
    "\n",
    "NUM_CLASSES = 100\n"
   ]
  },
  {
   "cell_type": "code",
   "execution_count": 3,
   "metadata": {},
   "outputs": [],
   "source": [
    "(x_train, y_train), (x_test, y_test) = cifar100.load_data()"
   ]
  },
  {
   "cell_type": "code",
   "execution_count": 4,
   "metadata": {},
   "outputs": [
    {
     "name": "stdout",
     "output_type": "stream",
     "text": [
      "X train shape: (50000, 32, 32, 3)\n",
      "y train shape: (50000, 1)\n",
      "X test shape: (10000, 32, 32, 3)\n",
      "Y test shape: (10000, 1)\n"
     ]
    }
   ],
   "source": [
    "print(\"X train shape: {}\".format(x_train.shape))\n",
    "print(\"y train shape: {}\".format(y_train.shape))\n",
    "print(\"X test shape: {}\".format(x_test.shape))\n",
    "print(\"Y test shape: {}\".format(y_test.shape))"
   ]
  },
  {
   "cell_type": "code",
   "execution_count": 5,
   "metadata": {},
   "outputs": [
    {
     "name": "stdout",
     "output_type": "stream",
     "text": [
      "[73]\n"
     ]
    }
   ],
   "source": [
    "import matplotlib.pyplot as plt\n",
    "index = 50\n",
    "plt.imshow(x_train[index,:])\n",
    "print(y_train[index,:])"
   ]
  },
  {
   "cell_type": "code",
   "execution_count": 6,
   "metadata": {},
   "outputs": [],
   "source": [
    "#one hot encoding\n",
    "y_train_ = k.utils.to_categorical(y_train, num_classes=100)\n",
    "y_test_ = k.utils.to_categorical(y_test, num_classes=100)\n"
   ]
  },
  {
   "cell_type": "code",
   "execution_count": 7,
   "metadata": {},
   "outputs": [],
   "source": [
    "#Normalizing the data\n",
    "x_train = x_train.astype('float32')\n",
    "x_test = x_test.astype('float32')\n",
    "\n",
    "x_train_ = x_train/255.0\n",
    "x_test_ = x_test/255.0"
   ]
  },
  {
   "cell_type": "code",
   "execution_count": 8,
   "metadata": {},
   "outputs": [
    {
     "name": "stdout",
     "output_type": "stream",
     "text": [
      "WARNING:tensorflow:From C:\\Users\\aim\\Anaconda3\\envs\\tensorflowsessions\\lib\\site-packages\\tensorflow\\python\\framework\\op_def_library.py:263: colocate_with (from tensorflow.python.framework.ops) is deprecated and will be removed in a future version.\n",
      "Instructions for updating:\n",
      "Colocations handled automatically by placer.\n",
      "WARNING:tensorflow:From C:\\Users\\aim\\Anaconda3\\envs\\tensorflowsessions\\lib\\site-packages\\keras\\backend\\tensorflow_backend.py:3445: calling dropout (from tensorflow.python.ops.nn_ops) with keep_prob is deprecated and will be removed in a future version.\n",
      "Instructions for updating:\n",
      "Please use `rate` instead of `keep_prob`. Rate should be set to `rate = 1 - keep_prob`.\n"
     ]
    }
   ],
   "source": [
    "model = Sequential()\n",
    "\n",
    "#stack 1... input = 32,32,3\n",
    "model.add(Conv2D(filters = 64, kernel_size = (3,3), padding = 'same', activation = 'relu', \n",
    "                 kernel_regularizer = l2(0.01), input_shape = (32,32,3)))\n",
    "model.add(Conv2D(filters = 64, kernel_size = (3,3), padding = 'same', activation = 'relu',\n",
    "                 kernel_regularizer = l2(0.01)))\n",
    "#... output = 32,32,64\n",
    "model.add(MaxPooling2D(pool_size=(2,2), strides=2))\n",
    "#... output = 16,16,64\n",
    "\n",
    "\n",
    "#stack 2\n",
    "model.add(Conv2D(filters = 128, kernel_size = (3,3), padding = 'same', activation = 'relu',\n",
    "                 kernel_regularizer = l2(0.01)))\n",
    "model.add(Conv2D(filters = 128, kernel_size = (3,3), padding = 'same', activation = 'relu',\n",
    "                 kernel_regularizer = l2(0.01)))\n",
    "model.add(Conv2D(filters = 128, kernel_size = (3,3), padding = 'same', activation = 'relu',\n",
    "                 kernel_regularizer = l2(0.01)))\n",
    "#... output = 16,16,128\n",
    "model.add(MaxPooling2D(pool_size = (2,2), strides = 2))\n",
    "#... output = 8,8,128\n",
    "\n",
    "#stack 3\n",
    "model.add(Conv2D(filters = 512, kernel_size = (3,3), padding = 'same', activation = 'relu',\n",
    "                 kernel_regularizer = l2(0.01)))\n",
    "model.add(Conv2D(filters = 512, kernel_size = (3,3), padding = 'same', activation = 'relu',\n",
    "                 kernel_regularizer = l2(0.01)))\n",
    "model.add(Conv2D(filters = 512, kernel_size = (3,3), padding = 'same', activation = 'relu',\n",
    "                 kernel_regularizer = l2(0.01)))\n",
    "model.add(Conv2D(filters = 512, kernel_size = (3,3), padding = 'same', activation = 'relu',\n",
    "                 kernel_regularizer = l2(0.01)))\n",
    "#... output = 8,8,512\n",
    "model.add(MaxPooling2D(pool_size = (2,2), strides = 1))\n",
    "#... output = 7,7,512\n",
    "\n",
    "model.add(Flatten()) #7*7*512 = 25088\n",
    "model.add(Dense(4096, activation = 'relu'))\n",
    "model.add(Dropout(0.5))\n",
    "model.add(Dense(4096, activation = 'relu'))\n",
    "model.add(Dropout(0.5))\n",
    "model.add(Dense(100, activation = 'softmax'))"
   ]
  },
  {
   "cell_type": "code",
   "execution_count": 9,
   "metadata": {},
   "outputs": [
    {
     "name": "stdout",
     "output_type": "stream",
     "text": [
      "_________________________________________________________________\n",
      "Layer (type)                 Output Shape              Param #   \n",
      "=================================================================\n",
      "conv2d_1 (Conv2D)            (None, 32, 32, 64)        1792      \n",
      "_________________________________________________________________\n",
      "conv2d_2 (Conv2D)            (None, 32, 32, 64)        36928     \n",
      "_________________________________________________________________\n",
      "max_pooling2d_1 (MaxPooling2 (None, 16, 16, 64)        0         \n",
      "_________________________________________________________________\n",
      "conv2d_3 (Conv2D)            (None, 16, 16, 128)       73856     \n",
      "_________________________________________________________________\n",
      "conv2d_4 (Conv2D)            (None, 16, 16, 128)       147584    \n",
      "_________________________________________________________________\n",
      "conv2d_5 (Conv2D)            (None, 16, 16, 128)       147584    \n",
      "_________________________________________________________________\n",
      "max_pooling2d_2 (MaxPooling2 (None, 8, 8, 128)         0         \n",
      "_________________________________________________________________\n",
      "conv2d_6 (Conv2D)            (None, 8, 8, 512)         590336    \n",
      "_________________________________________________________________\n",
      "conv2d_7 (Conv2D)            (None, 8, 8, 512)         2359808   \n",
      "_________________________________________________________________\n",
      "conv2d_8 (Conv2D)            (None, 8, 8, 512)         2359808   \n",
      "_________________________________________________________________\n",
      "conv2d_9 (Conv2D)            (None, 8, 8, 512)         2359808   \n",
      "_________________________________________________________________\n",
      "max_pooling2d_3 (MaxPooling2 (None, 7, 7, 512)         0         \n",
      "_________________________________________________________________\n",
      "flatten_1 (Flatten)          (None, 25088)             0         \n",
      "_________________________________________________________________\n",
      "dense_1 (Dense)              (None, 4096)              102764544 \n",
      "_________________________________________________________________\n",
      "dropout_1 (Dropout)          (None, 4096)              0         \n",
      "_________________________________________________________________\n",
      "dense_2 (Dense)              (None, 4096)              16781312  \n",
      "_________________________________________________________________\n",
      "dropout_2 (Dropout)          (None, 4096)              0         \n",
      "_________________________________________________________________\n",
      "dense_3 (Dense)              (None, 100)               409700    \n",
      "=================================================================\n",
      "Total params: 128,033,060\n",
      "Trainable params: 128,033,060\n",
      "Non-trainable params: 0\n",
      "_________________________________________________________________\n"
     ]
    }
   ],
   "source": [
    "model.summary()"
   ]
  },
  {
   "cell_type": "code",
   "execution_count": null,
   "metadata": {},
   "outputs": [
    {
     "name": "stdout",
     "output_type": "stream",
     "text": [
      "Epoch 1/5\n"
     ]
    }
   ],
   "source": [
    "model.compile(optimizer='adam', loss='sparse_categorical_crossentropy', metrics=['accuracy'])\n",
    "\n",
    "BATCH_SIZE = 32\n",
    "\n",
    "model.fit(x_train_, y_train, epochs = 5, steps_per_epoch=50000//BATCH_SIZE, shuffle=True)"
   ]
  },
  {
   "cell_type": "code",
   "execution_count": null,
   "metadata": {},
   "outputs": [],
   "source": []
  }
 ],
 "metadata": {
  "kernelspec": {
   "display_name": "Python 3",
   "language": "python",
   "name": "python3"
  },
  "language_info": {
   "codemirror_mode": {
    "name": "ipython",
    "version": 3
   },
   "file_extension": ".py",
   "mimetype": "text/x-python",
   "name": "python",
   "nbconvert_exporter": "python",
   "pygments_lexer": "ipython3",
   "version": "3.7.3"
  }
 },
 "nbformat": 4,
 "nbformat_minor": 2
}
