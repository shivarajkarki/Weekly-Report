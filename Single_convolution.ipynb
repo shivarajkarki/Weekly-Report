{
 "cells": [
  {
   "cell_type": "code",
   "execution_count": 2,
   "metadata": {},
   "outputs": [],
   "source": [
    "keep_prob =0.8\n",
    "\n",
    "import numpy as np\n",
    "d3 = np.random.randn(3,1)"
   ]
  },
  {
   "cell_type": "code",
   "execution_count": 9,
   "metadata": {},
   "outputs": [
    {
     "data": {
      "text/plain": [
       "array([[ 1.40336096],\n",
       "       [-0.5593865 ],\n",
       "       [-0.25787778]])"
      ]
     },
     "execution_count": 9,
     "metadata": {},
     "output_type": "execute_result"
    }
   ],
   "source": [
    "d3"
   ]
  },
  {
   "cell_type": "code",
   "execution_count": 10,
   "metadata": {},
   "outputs": [
    {
     "data": {
      "text/plain": [
       "array([[False],\n",
       "       [ True],\n",
       "       [ True]])"
      ]
     },
     "execution_count": 10,
     "metadata": {},
     "output_type": "execute_result"
    }
   ],
   "source": [
    "d3 < keep_prob"
   ]
  },
  {
   "cell_type": "code",
   "execution_count": 4,
   "metadata": {},
   "outputs": [
    {
     "data": {
      "text/plain": [
       "(3, 1)"
      ]
     },
     "execution_count": 4,
     "metadata": {},
     "output_type": "execute_result"
    }
   ],
   "source": [
    "d3.shape"
   ]
  },
  {
   "cell_type": "code",
   "execution_count": 10,
   "metadata": {},
   "outputs": [],
   "source": [
    "w = np.random.randint(-1,2, size=(3,3,3,2))"
   ]
  },
  {
   "cell_type": "code",
   "execution_count": 11,
   "metadata": {},
   "outputs": [
    {
     "data": {
      "text/plain": [
       "array([[[[ 0,  0],\n",
       "         [ 1,  0],\n",
       "         [-1,  1]],\n",
       "\n",
       "        [[ 1, -1],\n",
       "         [ 1, -1],\n",
       "         [ 1, -1]],\n",
       "\n",
       "        [[-1,  0],\n",
       "         [-1, -1],\n",
       "         [-1,  1]]],\n",
       "\n",
       "\n",
       "       [[[ 1,  1],\n",
       "         [ 1,  0],\n",
       "         [-1,  1]],\n",
       "\n",
       "        [[-1,  1],\n",
       "         [ 1,  0],\n",
       "         [ 1,  0]],\n",
       "\n",
       "        [[ 1,  0],\n",
       "         [-1,  1],\n",
       "         [ 1, -1]]],\n",
       "\n",
       "\n",
       "       [[[ 1,  0],\n",
       "         [ 1,  1],\n",
       "         [ 1, -1]],\n",
       "\n",
       "        [[ 1, -1],\n",
       "         [ 1,  1],\n",
       "         [ 1,  0]],\n",
       "\n",
       "        [[ 1,  0],\n",
       "         [-1, -1],\n",
       "         [ 0, -1]]]])"
      ]
     },
     "execution_count": 11,
     "metadata": {},
     "output_type": "execute_result"
    }
   ],
   "source": [
    "w"
   ]
  },
  {
   "cell_type": "code",
   "execution_count": 12,
   "metadata": {},
   "outputs": [
    {
     "data": {
      "text/plain": [
       "1"
      ]
     },
     "execution_count": 12,
     "metadata": {},
     "output_type": "execute_result"
    }
   ],
   "source": [
    "w[0,0,2,1]"
   ]
  },
  {
   "cell_type": "code",
   "execution_count": 18,
   "metadata": {},
   "outputs": [],
   "source": [
    "a_prev = np.random.randint(0,9, size=(5,5,3))"
   ]
  },
  {
   "cell_type": "code",
   "execution_count": 19,
   "metadata": {},
   "outputs": [],
   "source": [
    "a1 = a_prev[0:3, 0:3, :] * w[...,0]"
   ]
  },
  {
   "cell_type": "code",
   "execution_count": 20,
   "metadata": {},
   "outputs": [
    {
     "name": "stdout",
     "output_type": "stream",
     "text": [
      "a_prev: [[[8 7 5]\n",
      "  [5 8 6]\n",
      "  [5 0 4]]\n",
      "\n",
      " [[1 6 7]\n",
      "  [3 2 2]\n",
      "  [5 0 4]]\n",
      "\n",
      " [[2 0 5]\n",
      "  [7 8 4]\n",
      "  [5 3 4]]] \n",
      "w: [[[ 0  1 -1]\n",
      "  [ 1  1  1]\n",
      "  [-1 -1 -1]]\n",
      "\n",
      " [[ 1  1 -1]\n",
      "  [-1  1  1]\n",
      "  [ 1 -1  1]]\n",
      "\n",
      " [[ 1  1  1]\n",
      "  [ 1  1  1]\n",
      "  [ 1 -1  0]]]\n"
     ]
    }
   ],
   "source": [
    "print('a_prev:',a_prev[0:3, 0:3, :],'\\nw:', w[...,0])"
   ]
  },
  {
   "cell_type": "code",
   "execution_count": 21,
   "metadata": {},
   "outputs": [
    {
     "data": {
      "text/plain": [
       "array([[[ 0,  7, -5],\n",
       "        [ 5,  8,  6],\n",
       "        [-5,  0, -4]],\n",
       "\n",
       "       [[ 1,  6, -7],\n",
       "        [-3,  2,  2],\n",
       "        [ 5,  0,  4]],\n",
       "\n",
       "       [[ 2,  0,  5],\n",
       "        [ 7,  8,  4],\n",
       "        [ 5, -3,  0]]])"
      ]
     },
     "execution_count": 21,
     "metadata": {},
     "output_type": "execute_result"
    }
   ],
   "source": [
    "a1"
   ]
  },
  {
   "cell_type": "code",
   "execution_count": 22,
   "metadata": {},
   "outputs": [
    {
     "data": {
      "text/plain": [
       "50"
      ]
     },
     "execution_count": 22,
     "metadata": {},
     "output_type": "execute_result"
    }
   ],
   "source": [
    "np.sum(a1)"
   ]
  },
  {
   "cell_type": "markdown",
   "metadata": {},
   "source": [
    "Let me code for a single image convolution \n",
    "image a = (5,5,3)\n",
    "\n",
    "two filters = (3,3,3,2)\n",
    "\n",
    "output = (5 - 3) + 1 = 3,3,2\n",
    "\n",
    "0:2, 1:3, 2:4, 3:5"
   ]
  },
  {
   "cell_type": "code",
   "execution_count": 59,
   "metadata": {},
   "outputs": [],
   "source": [
    "Z = np.zeros((3,3,2))\n",
    "f = 3\n",
    "for C in range(2):\n",
    "    for row in range(3):\n",
    "        for col in range(3):\n",
    "            a_slice = np.sum(a_prev[row: row + f, col: col + f, :] * w[...,C])\n",
    "            Z[row, col, C] = a_slice"
   ]
  },
  {
   "cell_type": "code",
   "execution_count": 60,
   "metadata": {},
   "outputs": [
    {
     "name": "stdout",
     "output_type": "stream",
     "text": [
      "shape of a_prev (5, 5, 3)\n",
      "shape of w (3, 3, 3, 2)\n",
      "shape of Z (3, 3, 2)\n",
      "[[[ 50. -14.]\n",
      "  [ 31.  -1.]\n",
      "  [ 46.  -5.]]\n",
      "\n",
      " [[ 33.  15.]\n",
      "  [ 37.   7.]\n",
      "  [ 19.  -9.]]\n",
      "\n",
      " [[ 54. -22.]\n",
      "  [ 30. -22.]\n",
      "  [ 28.  11.]]]\n"
     ]
    }
   ],
   "source": [
    "print(\"shape of a_prev\",a_prev.shape)\n",
    "print(\"shape of w\",w.shape)\n",
    "print(\"shape of Z\", Z.shape)\n",
    "print(Z)"
   ]
  },
  {
   "cell_type": "code",
   "execution_count": 61,
   "metadata": {},
   "outputs": [],
   "source": [
    "\n",
    "for row in range(3):\n",
    "    for col in range(3):\n",
    "        for C in range(2):\n",
    "            a_slice = np.sum(a_prev[row: row + f, col: col + f, :] * w[...,C])\n",
    "            Z[row, col, C] = a_slice"
   ]
  },
  {
   "cell_type": "code",
   "execution_count": 62,
   "metadata": {},
   "outputs": [
    {
     "data": {
      "text/plain": [
       "array([[[ 50., -14.],\n",
       "        [ 31.,  -1.],\n",
       "        [ 46.,  -5.]],\n",
       "\n",
       "       [[ 33.,  15.],\n",
       "        [ 37.,   7.],\n",
       "        [ 19.,  -9.]],\n",
       "\n",
       "       [[ 54., -22.],\n",
       "        [ 30., -22.],\n",
       "        [ 28.,  11.]]])"
      ]
     },
     "execution_count": 62,
     "metadata": {},
     "output_type": "execute_result"
    }
   ],
   "source": [
    "Z"
   ]
  },
  {
   "cell_type": "code",
   "execution_count": 34,
   "metadata": {},
   "outputs": [],
   "source": [
    "import matplotlib.pyplot as plt"
   ]
  },
  {
   "cell_type": "code",
   "execution_count": 40,
   "metadata": {},
   "outputs": [
    {
     "name": "stderr",
     "output_type": "stream",
     "text": [
      "Clipping input data to the valid range for imshow with RGB data ([0..1] for floats or [0..255] for integers).\n"
     ]
    },
    {
     "data": {
      "text/plain": [
       "<matplotlib.image.AxesImage at 0x8dd0f60>"
      ]
     },
     "execution_count": 40,
     "metadata": {},
     "output_type": "execute_result"
    },
    {
     "data": {
      "image/png": "[encoded data removed]",
      "text/plain": [
       "<Figure size 432x288 with 1 Axes>"
      ]
     },
     "metadata": {
      "needs_background": "light"
     },
     "output_type": "display_data"
    }
   ],
   "source": [
    "plt.imshow(a_prev*100)"
   ]
  },
  {
   "cell_type": "code",
   "execution_count": 43,
   "metadata": {},
   "outputs": [
    {
     "data": {
      "text/plain": [
       "<matplotlib.image.AxesImage at 0x8b03048>"
      ]
     },
     "execution_count": 43,
     "metadata": {},
     "output_type": "execute_result"
    },
    {
     "data": {
      "image/png": "[encoded data removed]",
      "text/plain": [
       "<Figure size 432x288 with 1 Axes>"
      ]
     },
     "metadata": {
      "needs_background": "light"
     },
     "output_type": "display_data"
    }
   ],
   "source": [
    "plt.imshow(Z[...,0])"
   ]
  },
  {
   "cell_type": "code",
   "execution_count": 46,
   "metadata": {},
   "outputs": [
    {
     "data": {
      "text/plain": [
       "<matplotlib.image.AxesImage at 0x9312898>"
      ]
     },
     "execution_count": 46,
     "metadata": {},
     "output_type": "execute_result"
    },
    {
     "data": {
      "image/png": "[encoded data removed]",
      "text/plain": [
       "<Figure size 432x288 with 1 Axes>"
      ]
     },
     "metadata": {
      "needs_background": "light"
     },
     "output_type": "display_data"
    }
   ],
   "source": [
    "plt.imshow(Z[...,1])"
   ]
  },
  {
   "cell_type": "code",
   "execution_count": null,
   "metadata": {},
   "outputs": [],
   "source": []
  }
 ],
 "metadata": {
  "kernelspec": {
   "display_name": "Python 3",
   "language": "python",
   "name": "python3"
  },
  "language_info": {
   "codemirror_mode": {
    "name": "ipython",
    "version": 3
   },
   "file_extension": ".py",
   "mimetype": "text/x-python",
   "name": "python",
   "nbconvert_exporter": "python",
   "pygments_lexer": "ipython3",
   "version": "3.7.3"
  }
 },
 "nbformat": 4,
 "nbformat_minor": 2
}
