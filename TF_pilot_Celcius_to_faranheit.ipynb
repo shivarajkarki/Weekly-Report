{
 "cells": [
  {
   "cell_type": "code",
   "execution_count": 1,
   "metadata": {},
   "outputs": [],
   "source": [
    "import tensorflow as tf\n",
    "import numpy as np\n",
    "import logging"
   ]
  },
  {
   "cell_type": "code",
   "execution_count": 2,
   "metadata": {},
   "outputs": [],
   "source": [
    "#only to display errors\n",
    "tf.logging.set_verbosity(tf.logging.ERROR)"
   ]
  },
  {
   "cell_type": "code",
   "execution_count": 3,
   "metadata": {},
   "outputs": [],
   "source": [
    "import numpy as np"
   ]
  },
  {
   "cell_type": "code",
   "execution_count": 4,
   "metadata": {},
   "outputs": [],
   "source": [
    "celcius = np.array([-40, -10, 0, 8, 15, 22, 38], dtype = float)\n",
    "faranheit = np.array([-40, 14, 32, 46, 59, 72, 100], dtype = float)"
   ]
  },
  {
   "cell_type": "markdown",
   "metadata": {},
   "source": [
    "`celcius to faranheit conversion`\n",
    "\\begin{align}\n",
    "f = (^{o}c * 1.8) + 3.2\n",
    "\\end{align}\n"
   ]
  },
  {
   "cell_type": "code",
   "execution_count": 5,
   "metadata": {},
   "outputs": [
    {
     "name": "stdout",
     "output_type": "stream",
     "text": [
      "Degree Celcius = -40.0, Degree Faranheit = -40.0\n",
      "Degree Celcius = -10.0, Degree Faranheit = 14.0\n",
      "Degree Celcius = 0.0, Degree Faranheit = 32.0\n",
      "Degree Celcius = 8.0, Degree Faranheit = 46.0\n",
      "Degree Celcius = 15.0, Degree Faranheit = 59.0\n",
      "Degree Celcius = 22.0, Degree Faranheit = 72.0\n",
      "Degree Celcius = 38.0, Degree Faranheit = 100.0\n"
     ]
    }
   ],
   "source": [
    "for i,c in enumerate(celcius):\n",
    "    print(\"Degree Celcius = {}, Degree Faranheit = {}\" .format(c, faranheit[i]))"
   ]
  },
  {
   "cell_type": "code",
   "execution_count": 8,
   "metadata": {},
   "outputs": [],
   "source": [
    "# Inputs - Features\n",
    "# Output - Labels\n",
    "#units=1 — This specifies the number of neurons in the layer.\n",
    "#          The number of neurons defines how many internal variables the layer has \n",
    "#input_shape=[1] — This specifies that the input to this layer is a single value\n",
    "\n",
    "l0 = tf.keras.layers.Dense(units=1, input_shape =[1])"
   ]
  },
  {
   "cell_type": "code",
   "execution_count": 9,
   "metadata": {},
   "outputs": [],
   "source": [
    "# The Sequential model definition takes a list of layers as argument, \n",
    "#specifying the calculation order from the input to the output.\n",
    "#This model has just a single layer, l0.\n",
    "\n",
    "model = tf.keras.Sequential([l0])"
   ]
  },
  {
   "cell_type": "code",
   "execution_count": 13,
   "metadata": {},
   "outputs": [],
   "source": [
    "#Before training, the model has to be compiled\n",
    "\n",
    "#Loss function — A way of measuring how far off predictions are from the desired outcome.\n",
    "\n",
    "#Optimizer function — A way of adjusting internal values in order to reduce the loss.\n",
    "\n",
    "#0.1 is learning rate\n",
    "\n",
    "model.compile(loss = 'mean_squared_error', optimizer=tf.keras.optimizers.Adam(0.1))"
   ]
  },
  {
   "cell_type": "markdown",
   "metadata": {},
   "source": [
    "`This cycle of calculate, compare, adjust is controlled by the fit method. The first argument is the inputs, the second argument is the desired outputs. The epochs argument specifies how many times this cycle should be run, and the verbose argument controls how much output the method produces.`"
   ]
  },
  {
   "cell_type": "code",
   "execution_count": 15,
   "metadata": {},
   "outputs": [
    {
     "name": "stdout",
     "output_type": "stream",
     "text": [
      "Model id Trained\n"
     ]
    }
   ],
   "source": [
    "hostory = model.fit(celcius, faranheit, epochs=500, verbose=False)\n",
    "print(\"Model id Trained\")"
   ]
  },
  {
   "cell_type": "code",
   "execution_count": 16,
   "metadata": {},
   "outputs": [],
   "source": [
    "import matplotlib.pyplot as plt"
   ]
  },
  {
   "cell_type": "code",
   "execution_count": 18,
   "metadata": {},
   "outputs": [
    {
     "data": {
      "text/plain": [
       "[<matplotlib.lines.Line2D at 0x16682e10>]"
      ]
     },
     "execution_count": 18,
     "metadata": {},
     "output_type": "execute_result"
    },
    {
     "data": {
      "image/png": "[encoded data removed]",
      "text/plain": [
       "<Figure size 432x288 with 1 Axes>"
      ]
     },
     "metadata": {
      "needs_background": "light"
     },
     "output_type": "display_data"
    }
   ],
   "source": [
    "plt.xlabel('Epoch Number')\n",
    "plt.ylabel('Loss Magnitude')\n",
    "plt.plot(hostory.history['loss'])"
   ]
  },
  {
   "cell_type": "code",
   "execution_count": 19,
   "metadata": {},
   "outputs": [
    {
     "name": "stdout",
     "output_type": "stream",
     "text": [
      "[[211.31287]]\n"
     ]
    }
   ],
   "source": [
    "print(model.predict([100]))"
   ]
  },
  {
   "cell_type": "markdown",
   "metadata": {},
   "source": [
    "`finding the parameters`\n"
   ]
  },
  {
   "cell_type": "code",
   "execution_count": 21,
   "metadata": {},
   "outputs": [
    {
     "name": "stdout",
     "output_type": "stream",
     "text": [
      "the parameters are [array([[1.8239483]], dtype=float32), array([28.918043], dtype=float32)]\n"
     ]
    }
   ],
   "source": [
    "print(\"the parameters are {}\" .format(l0.get_weights()))"
   ]
  },
  {
   "cell_type": "code",
   "execution_count": 32,
   "metadata": {},
   "outputs": [
    {
     "name": "stdout",
     "output_type": "stream",
     "text": [
      "Finished training the data\n"
     ]
    }
   ],
   "source": [
    "##################\n",
    "\n",
    "\"\"\"\n",
    "Now building a higher layer model.\n",
    "Three layer model, with l0, l1, l2 layers, with 4, 4, 1 units ineach respectively\n",
    "\"\"\"\n",
    "\n",
    "##################\n",
    "\n",
    "l0 = tf.keras.layers.Dense(units=4, input_shape = [1])\n",
    "l1 = tf.keras.layers.Dense(units=4)\n",
    "l2 = tf.keras.layers.Dense(units=1)\n",
    "\n",
    "model = tf.keras.Sequential([l0, l1, l2])\n",
    "\n",
    "model.compile(loss = tf.keras.losses.mean_squared_error, optimizer = tf.keras.optimizers.Adam(0.1))\n",
    "\n",
    "model.fit(celcius, faranheit, epochs = 500, verbose=False)\n",
    "print(\"Finished training the data\")"
   ]
  },
  {
   "cell_type": "code",
   "execution_count": 33,
   "metadata": {},
   "outputs": [
    {
     "name": "stdout",
     "output_type": "stream",
     "text": [
      "[[211.74742]]\n"
     ]
    }
   ],
   "source": [
    "print(model.predict([100]))"
   ]
  },
  {
   "cell_type": "code",
   "execution_count": 42,
   "metadata": {},
   "outputs": [],
   "source": [
    "W1, b1 = l0.get_weights()"
   ]
  },
  {
   "cell_type": "code",
   "execution_count": 45,
   "metadata": {},
   "outputs": [
    {
     "name": "stdout",
     "output_type": "stream",
     "text": [
      "W1: [[-0.80252486 -0.5901844   0.34726176  0.0705794 ]]\n",
      "W1_shape: (1, 4)\n",
      "b1: [-3.291115  -3.29332   -2.847628   3.2015586]\n",
      "b1_shape: (4,)\n"
     ]
    }
   ],
   "source": [
    "print(\"W1: {}\\nW1_shape: {}\\nb1: {}\\nb1_shape: {}\".format(W1, W1.shape, b1, b1.shape))"
   ]
  },
  {
   "cell_type": "code",
   "execution_count": 41,
   "metadata": {},
   "outputs": [
    {
     "name": "stdout",
     "output_type": "stream",
     "text": [
      "These are the l0 variables: [array([[-0.80252486, -0.5901844 ,  0.34726176,  0.0705794 ]],\n",
      "      dtype=float32), array([-3.291115 , -3.29332  , -2.847628 ,  3.2015586], dtype=float32)] \n"
     ]
    }
   ],
   "source": [
    "print(\"These are the l0 variables: {} \".format(l0.get_weights()))"
   ]
  },
  {
   "cell_type": "code",
   "execution_count": 46,
   "metadata": {},
   "outputs": [
    {
     "name": "stdout",
     "output_type": "stream",
     "text": [
      "These are the l1 variables:\n",
      "W2: [[ 0.65898544 -0.29775247 -0.21560147 -0.62856585]\n",
      " [ 0.8319671   0.7227906   0.7411325  -0.20976113]\n",
      " [ 0.30004337  0.36309424  0.43190724 -0.67082816]\n",
      " [-0.39119828  0.1126104  -0.38800758  0.882808  ]]\n",
      "W2_shape: (4, 4)\n",
      "b2: [-3.249291  -2.5334995  0.1039298  3.187031 ]\n",
      "b2_shape: (4,)\n"
     ]
    }
   ],
   "source": [
    "print(\"These are the l1 variables:\")\n",
    "W2, b2 = l1.get_weights()\n",
    "print(\"W2: {}\\nW2_shape: {}\\nb2: {}\\nb2_shape: {}\".format(W2, W2.shape, b2, b2.shape))"
   ]
  },
  {
   "cell_type": "code",
   "execution_count": 48,
   "metadata": {},
   "outputs": [
    {
     "name": "stdout",
     "output_type": "stream",
     "text": [
      "These are the l2 variables: \n",
      "W3: [[-1.2076181 ]\n",
      " [-0.25576502]\n",
      " [-0.08779676]\n",
      " [ 1.3826039 ]]\n",
      "W3_shape: (4, 1)\n",
      "b3: [3.2475812]\n",
      "b3_shape: (1,)\n"
     ]
    }
   ],
   "source": [
    "print(\"These are the l2 variables: \")\n",
    "W3, b3 = l2.get_weights()\n",
    "print(\"W3: {}\\nW3_shape: {}\\nb3: {}\\nb3_shape: {}\".format(W3, W3.shape, b3, b3.shape))"
   ]
  },
  {
   "cell_type": "code",
   "execution_count": null,
   "metadata": {},
   "outputs": [],
   "source": []
  }
 ],
 "metadata": {
  "kernelspec": {
   "display_name": "Python 3",
   "language": "python",
   "name": "python3"
  },
  "language_info": {
   "codemirror_mode": {
    "name": "ipython",
    "version": 3
   },
   "file_extension": ".py",
   "mimetype": "text/x-python",
   "name": "python",
   "nbconvert_exporter": "python",
   "pygments_lexer": "ipython3",
   "version": "3.7.3"
  }
 },
 "nbformat": 4,
 "nbformat_minor": 2
}
