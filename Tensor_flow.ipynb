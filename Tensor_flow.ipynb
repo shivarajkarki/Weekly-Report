{
 "cells": [
  {
   "cell_type": "markdown",
   "metadata": {},
   "source": [
    "# TensorFlow"
   ]
  },
  {
   "cell_type": "code",
   "execution_count": 1,
   "metadata": {},
   "outputs": [],
   "source": [
    "import tensorflow as tf\n",
    "import numpy as np"
   ]
  },
  {
   "cell_type": "markdown",
   "metadata": {},
   "source": [
    "Let's start \n",
    ">**TensorFlow**"
   ]
  },
  {
   "cell_type": "markdown",
   "metadata": {},
   "source": [
    "### Tensorflow Constants"
   ]
  },
  {
   "cell_type": "markdown",
   "metadata": {},
   "source": [
    "There exist only three datatypes\n",
    "Constant\n",
    "Placeholder\n",
    "Variable"
   ]
  },
  {
   "cell_type": "code",
   "execution_count": 2,
   "metadata": {},
   "outputs": [],
   "source": [
    "x = tf.constant(5) #define tensors\n",
    "y = tf.constant(6)\n",
    "\n",
    "z = x + y #Flow"
   ]
  },
  {
   "cell_type": "code",
   "execution_count": 3,
   "metadata": {},
   "outputs": [
    {
     "name": "stdout",
     "output_type": "stream",
     "text": [
      "Tensor(\"add:0\", shape=(), dtype=int32)\n"
     ]
    }
   ],
   "source": [
    "print(z) #just assigns the flow or graph, not yet executed"
   ]
  },
  {
   "cell_type": "code",
   "execution_count": 4,
   "metadata": {},
   "outputs": [
    {
     "name": "stdout",
     "output_type": "stream",
     "text": [
      "11\n"
     ]
    }
   ],
   "source": [
    "with tf.Session() as sess:\n",
    "    output = sess.run(z) # See that we are assigning run to output\n",
    "    print(output) # Session closes automatically"
   ]
  },
  {
   "cell_type": "code",
   "execution_count": 5,
   "metadata": {},
   "outputs": [
    {
     "name": "stdout",
     "output_type": "stream",
     "text": [
      "20.0\n"
     ]
    }
   ],
   "source": [
    "a = tf.constant(4.0)\n",
    "b = tf.constant(5.0)\n",
    "\n",
    "c = a*b\n",
    "\n",
    "sess = tf.Session()\n",
    "\n",
    "print(sess.run(c))\n",
    "sess.close() # In this mode of execution its mandatory to close the session"
   ]
  },
  {
   "cell_type": "code",
   "execution_count": 6,
   "metadata": {},
   "outputs": [
    {
     "name": "stdout",
     "output_type": "stream",
     "text": [
      "[4.0, 5.0]\n"
     ]
    }
   ],
   "source": [
    "node1 = tf.constant(4.0, tf.float32)\n",
    "node2 = tf.constant(5.0, tf.float16)\n",
    "\n",
    "sess = tf.Session()\n",
    "print(sess.run([node1, node2]))\n",
    "sess.close()"
   ]
  },
  {
   "cell_type": "markdown",
   "metadata": {},
   "source": [
    "### Tensorlfow Placeholder\n",
    "\n",
    "> A 'placeholder' is a promise to provide a value later\n",
    "\n",
    "Values fed during execution of sessions"
   ]
  },
  {
   "cell_type": "code",
   "execution_count": 7,
   "metadata": {},
   "outputs": [],
   "source": [
    "# You can assign tensors during runtime, using feed_dict dictionary\n",
    "# In below example d is a list of [1,2]\n",
    "                # e is a list of [3,4]"
   ]
  },
  {
   "cell_type": "code",
   "execution_count": 8,
   "metadata": {},
   "outputs": [
    {
     "name": "stdout",
     "output_type": "stream",
     "text": [
      "[3. 8.]\n"
     ]
    },
    {
     "data": {
      "text/plain": [
       "<bound method BaseSession.close of <tensorflow.python.client.session.Session object at 0x000000000AE0F748>>"
      ]
     },
     "execution_count": 8,
     "metadata": {},
     "output_type": "execute_result"
    }
   ],
   "source": [
    "d = tf.placeholder(tf.float16)\n",
    "e = tf.placeholder(tf.float16)\n",
    "\n",
    "f = d * e\n",
    "\n",
    "sess = tf.Session()\n",
    "\n",
    "print(sess.run(f, feed_dict = {d:[1,2], e:[3,4]})) #observe the result is elementwise multiplication\n",
    "\n",
    "sess.close"
   ]
  },
  {
   "cell_type": "code",
   "execution_count": 9,
   "metadata": {},
   "outputs": [
    {
     "name": "stdout",
     "output_type": "stream",
     "text": [
      "[ 9. 11. 13.]\n"
     ]
    }
   ],
   "source": [
    "g = tf.placeholder(tf.float32)\n",
    "h = tf.placeholder(tf.float32)\n",
    "\n",
    "adder_node = g + h\n",
    "\n",
    "sess = tf.Session()\n",
    "print(sess.run(adder_node, feed_dict = {g:[3,4,5], h:[6,7,8]}))"
   ]
  },
  {
   "cell_type": "code",
   "execution_count": 10,
   "metadata": {},
   "outputs": [
    {
     "name": "stdout",
     "output_type": "stream",
     "text": [
      "[[ 45. -40.   0.  10.]\n",
      " [ 55.  30. -35.  -5.]\n",
      " [-35.  15. -10.  40.]\n",
      " [-30.  40. -35. -20.]]\n"
     ]
    }
   ],
   "source": [
    "Mul_5 = adder_node * 5\n",
    "print(sess.run(Mul_5, feed_dict = {g:np.random.randint(0, 15, size = (4,4)), \n",
    "                                   h:np.random.randint(-14,1, size = (4,4))}))\n",
    "\n",
    "sess.close()"
   ]
  },
  {
   "cell_type": "code",
   "execution_count": 11,
   "metadata": {},
   "outputs": [],
   "source": [
    "# This means that we can pass different values for placeholder during different run time, \n",
    "# and also use previous functions, its independent of the tensors used..... tensor = vector/matrix"
   ]
  },
  {
   "cell_type": "markdown",
   "metadata": {},
   "source": [
    "### Tensorflow Variables\n",
    "\n",
    ">Variable allows us to add trainable parameters to the graph\n",
    "\n",
    "We need an extra command to initialise these variable"
   ]
  },
  {
   "cell_type": "code",
   "execution_count": 12,
   "metadata": {},
   "outputs": [
    {
     "name": "stdout",
     "output_type": "stream",
     "text": [
      "WARNING:tensorflow:From C:\\Users\\aim\\Anaconda3\\envs\\tensorflowsessions\\lib\\site-packages\\tensorflow\\python\\framework\\op_def_library.py:263: colocate_with (from tensorflow.python.framework.ops) is deprecated and will be removed in a future version.\n",
      "Instructions for updating:\n",
      "Colocations handled automatically by placer.\n",
      "[0.5]\n"
     ]
    }
   ],
   "source": [
    "W1 = tf.Variable([.5], tf.float16)\n",
    "#important... need to run below code to execute or inialise the variable\n",
    "init = tf.global_variables_initializer()\n",
    "\n",
    "sess = tf.Session()\n",
    "sess.run(init) #initializes the variable and assigns value \n",
    "\n",
    "print(sess.run(W1))\n",
    "\n",
    "sess.close()"
   ]
  },
  {
   "cell_type": "code",
   "execution_count": 13,
   "metadata": {},
   "outputs": [
    {
     "name": "stdout",
     "output_type": "stream",
     "text": [
      "[3. 5. 7. 9.]\n"
     ]
    }
   ],
   "source": [
    "#Linear line Y = Wx + b\n",
    "W = tf.Variable([2.], tf.float32)\n",
    "b = tf.Variable([1.], tf.float32)\n",
    "x = tf.placeholder(tf.float32)\n",
    "\n",
    "Linear_line = W*x + b\n",
    "\n",
    "init = tf.global_variables_initializer()\n",
    "\n",
    "sess = tf.Session()\n",
    "sess.run(init)\n",
    "\n",
    "print(sess.run(Linear_line, {x:[1,2,3,4]}))\n"
   ]
  },
  {
   "cell_type": "markdown",
   "metadata": {},
   "source": [
    "To type cast we have tf.cast"
   ]
  },
  {
   "cell_type": "code",
   "execution_count": 14,
   "metadata": {},
   "outputs": [
    {
     "name": "stdout",
     "output_type": "stream",
     "text": [
      "[1 2 3 4]\n"
     ]
    }
   ],
   "source": [
    "print(sess.run(tf.cast(x, tf.int16), {x:[1.,2.,3.,4.]}))"
   ]
  },
  {
   "cell_type": "code",
   "execution_count": 15,
   "metadata": {},
   "outputs": [
    {
     "name": "stdout",
     "output_type": "stream",
     "text": [
      "[3 5 7 9]\n"
     ]
    }
   ],
   "source": [
    "print(sess.run(tf.cast(Linear_line, tf.int16), {x:[1,2,3,4]}))"
   ]
  },
  {
   "cell_type": "code",
   "execution_count": 16,
   "metadata": {},
   "outputs": [],
   "source": [
    "sess.close()"
   ]
  },
  {
   "cell_type": "markdown",
   "metadata": {},
   "source": [
    "#### Lets Implement Activation function"
   ]
  },
  {
   "cell_type": "code",
   "execution_count": 17,
   "metadata": {},
   "outputs": [
    {
     "name": "stdout",
     "output_type": "stream",
     "text": [
      "sigmoid:\t [0.26894143 0.5        0.7310586  0.8807971  0.95257413 0.98201376]\n",
      "tanh:\t [-0.7615942  0.         0.7615942  0.9640276  0.9950547  0.9993292]\n",
      "relu:\t [0. 0. 1. 2. 3. 4.]\n"
     ]
    }
   ],
   "source": [
    "a = tf.constant([-1, 0, 1., 2., 3., 4.])\n",
    "\n",
    "sigmoid_activation = tf.sigmoid(a)\n",
    "tanh_activation = tf.tanh(a)\n",
    "relu_activation = tf.nn.relu(a)\n",
    "\n",
    "with tf.Session() as sess:\n",
    "    output1 = sess.run(sigmoid_activation)\n",
    "    output2 = sess.run(tanh_activation)\n",
    "    output3 = sess.run(relu_activation)\n",
    "    \n",
    "    print('sigmoid:\\t',output1)\n",
    "    print('tanh:\\t', output2)\n",
    "    print('relu:\\t', output3)"
   ]
  },
  {
   "cell_type": "markdown",
   "metadata": {},
   "source": [
    "###### Truncated normal distribution\n",
    "\n",
    "```\n",
    "tf.random.truncated_normal(\n",
    "    shape,\n",
    "    mean=0.0,\n",
    "    stddev=1.0,\n",
    "    dtype=tf.dtypes.float32,\n",
    "    seed=None,\n",
    "    name=None\n",
    ")```\n",
    "\n",
    "The generated values follow a normal distribution with specified mean and standard deviation, except that values whose magnitude is more than 2 standard deviations from the mean are dropped and re-picked."
   ]
  },
  {
   "cell_type": "code",
   "execution_count": 18,
   "metadata": {},
   "outputs": [
    {
     "name": "stdout",
     "output_type": "stream",
     "text": [
      "[[-0.8113182   1.4845988   0.06532937]\n",
      " [ 0.0992484   0.6396971   1.6108712 ]]\n"
     ]
    }
   ],
   "source": [
    "a = tf.truncated_normal([2,3], seed = 1)\n",
    "with tf.Session() as sess:\n",
    "    print(sess.run(a))"
   ]
  },
  {
   "cell_type": "code",
   "execution_count": 19,
   "metadata": {},
   "outputs": [
    {
     "name": "stdout",
     "output_type": "stream",
     "text": [
      "[[-0.8113182   1.4845988   0.06532937]\n",
      " [ 0.0992484   0.6396971   1.6108712 ]]\n"
     ]
    }
   ],
   "source": [
    "a = tf.random.truncated_normal([2,3], seed = 1)\n",
    "with tf.Session() as sess:\n",
    "    print(sess.run(a))"
   ]
  },
  {
   "cell_type": "markdown",
   "metadata": {},
   "source": [
    "## Loss Function\n",
    "\n",
    "- It's measure how far is the current model from given data"
   ]
  },
  {
   "cell_type": "code",
   "execution_count": 22,
   "metadata": {},
   "outputs": [
    {
     "name": "stdout",
     "output_type": "stream",
     "text": [
      "[ 0.         1.6899998  6.7599993 15.210001 ]\n",
      "23.66\n"
     ]
    }
   ],
   "source": [
    "W = tf.Variable([.3], tf.float32)\n",
    "b = tf.Variable([-.3], tf.float32)\n",
    "\n",
    "x = tf.placeholder(tf.float32)\n",
    "y = tf.placeholder(tf.float32)\n",
    "\n",
    "Linear_model = W*x + b\n",
    "\n",
    "squared_data = tf.square(Linear_model - y)\n",
    "loss = tf.reduce_sum(squared_data)\n",
    "\n",
    "init = tf.global_variables_initializer()\n",
    "\n",
    "sess =tf.Session()\n",
    "sess.run(init)\n",
    "\n",
    "print(sess.run(squared_data, {x:[1,2,3,4], y:[0,-1,-2,-3]}))\n",
    "print(sess.run(loss, {x:[1,2,3,4], y:[0,-1,-2,-3]}))\n",
    "sess.close()"
   ]
  },
  {
   "cell_type": "markdown",
   "metadata": {},
   "source": [
    "## Model Optimizer\n",
    "- modifies each variable according to magnitude of derivative of loss w.r.t that variable"
   ]
  },
  {
   "cell_type": "code",
   "execution_count": 25,
   "metadata": {},
   "outputs": [
    {
     "name": "stdout",
     "output_type": "stream",
     "text": [
      "[array([-0.459616], dtype=float32), array([-0.4965184], dtype=float32)]\n"
     ]
    }
   ],
   "source": [
    "W = tf.Variable([.3], tf.float32)\n",
    "b = tf.Variable([-.3], tf.float32)\n",
    "\n",
    "x = tf.placeholder(tf.float32)\n",
    "y = tf.placeholder(tf.float32)\n",
    "\n",
    "Linear_model = W*x + b\n",
    "\n",
    "Square_error = tf.square(Linear_model - y)\n",
    "loss = tf.reduce_sum(Square_error)\n",
    "\n",
    "optimizer = tf.train.GradientDescentOptimizer(0.01)\n",
    "train = optimizer.minimize(loss)\n",
    "\n",
    "init = tf.global_variables_initializer()\n",
    "\n",
    "sess = tf.Session()\n",
    "\n",
    "sess.run(init)\n",
    "\n",
    "for i in range(3):\n",
    "    sess.run(train, {x:[1,2,3,4], y:[0,-1,-2,-3]})\n",
    "    \n",
    "print(sess.run([W,b]))"
   ]
  },
  {
   "cell_type": "code",
   "execution_count": null,
   "metadata": {},
   "outputs": [],
   "source": []
  }
 ],
 "metadata": {
  "kernelspec": {
   "display_name": "Python 3",
   "language": "python",
   "name": "python3"
  },
  "language_info": {
   "codemirror_mode": {
    "name": "ipython",
    "version": 3
   },
   "file_extension": ".py",
   "mimetype": "text/x-python",
   "name": "python",
   "nbconvert_exporter": "python",
   "pygments_lexer": "ipython3",
   "version": "3.7.3"
  }
 },
 "nbformat": 4,
 "nbformat_minor": 2
}
