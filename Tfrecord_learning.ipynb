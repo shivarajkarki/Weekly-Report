{
 "cells": [
  {
   "cell_type": "code",
   "execution_count": 1,
   "metadata": {},
   "outputs": [],
   "source": [
    "from random import shuffle\n",
    "import glob\n",
    "import numpy as np\n",
    "import cv2\n",
    "import sys\n",
    "import os"
   ]
  },
  {
   "cell_type": "code",
   "execution_count": 2,
   "metadata": {},
   "outputs": [],
   "source": [
    "import tensorflow as tf"
   ]
  },
  {
   "cell_type": "code",
   "execution_count": 3,
   "metadata": {},
   "outputs": [],
   "source": [
    "classes = ['Dry Edge', 'Edge Tear', 'Floating Lens', 'Folded Lens',\n",
    "           'Gapped Edge', 'In Lens Tear',\n",
    "           'Multiple Lens', 'No Lens', 'No Shell', 'Particles']"
   ]
  },
  {
   "cell_type": "code",
   "execution_count": 84,
   "metadata": {},
   "outputs": [],
   "source": [
    "y_labels = []\n",
    "for r, d, f in os.walk(os.getcwd()):\n",
    "    if classes[0] in r:\n",
    "        y_labels.extend([0]*len(f))\n",
    "        #labels.extend([0 for i in range(len(f))])\n",
    "\n",
    "    if classes[1] in r:\n",
    "        y_labels.extend([1]*len(f))\n",
    "        #labels.extend([1 for i in range(len(f))])\n",
    "    \n",
    "    if classes[2] in r:\n",
    "        y_labels.extend([2]*len(f))\n",
    "        #labels.extend([2 for i in range(len(f))])\n",
    "    \n",
    "    if classes[3] in r:\n",
    "        y_labels.extend([3]*len(f))\n",
    "        #labels.extend([3 for i in range(len(f))])\n",
    "        \n",
    "    if classes[4] in r:\n",
    "        y_labels.extend([4]*len(f))\n",
    "        #labels.extend([4 for i in range(len(f))])\n",
    "        \n",
    "    if classes[5] in r:\n",
    "        y_labels.extend([5]*len(f))\n",
    "        #labels.extend([5 for i in range(len(f))])\n",
    "        \n",
    "    if classes[6] in r:\n",
    "        y_labels.extend([6]*len(f))\n",
    "        #labels.extend([6 for i in range(len(f))])\n",
    "    \n",
    "    if classes[7] in r:\n",
    "        y_labels.extend([7]*len(f))\n",
    "        #labels.extend([7 for i in range(len(f))])\n",
    "        \n",
    "    if classes[8] in r:\n",
    "        y_labels.extend([8]*len(f))\n",
    "        #labels.extend([8 for i in range(len(f))])\n",
    "    \n",
    "    if classes[9] in r:\n",
    "        y_labels.extend([9]*len(f))\n",
    "        #labels.extend([9 for i in range(len(f))])\n",
    "        "
   ]
  },
  {
   "cell_type": "code",
   "execution_count": 85,
   "metadata": {},
   "outputs": [
    {
     "data": {
      "text/plain": [
       "[0, 0, 1, 1, 2, 2, 3, 3, 4, 4, 5, 5, 6, 6, 7, 7, 8, 9, 9]"
      ]
     },
     "execution_count": 85,
     "metadata": {},
     "output_type": "execute_result"
    }
   ],
   "source": [
    "y_labels"
   ]
  }
 ],
 "metadata": {
  "kernelspec": {
   "display_name": "Python 3",
   "language": "python",
   "name": "python3"
  },
  "language_info": {
   "codemirror_mode": {
    "name": "ipython",
    "version": 3
   },
   "file_extension": ".py",
   "mimetype": "text/x-python",
   "name": "python",
   "nbconvert_exporter": "python",
   "pygments_lexer": "ipython3",
   "version": "3.7.3"
  }
 },
 "nbformat": 4,
 "nbformat_minor": 2
}
