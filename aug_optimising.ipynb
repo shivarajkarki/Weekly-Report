{
 "cells": [
  {
   "cell_type": "code",
   "execution_count": 1,
   "metadata": {},
   "outputs": [],
   "source": [
    "import numpy as np\n",
    "import cv2\n",
    "import matplotlib.pyplot as plt\n",
    "import glob\n",
    "import cv2 as cv\n",
    "import imutils\n",
    "\n"
   ]
  },
  {
   "cell_type": "code",
   "execution_count": 2,
   "metadata": {},
   "outputs": [],
   "source": [
    "def Aug_for_loops(input_list):\n",
    "    \n",
    "    cv_img_1 = input_list\n",
    "    \n",
    "    cv_img_aug_flip_trans = []\n",
    "\n",
    "    rows, cols = cv_img_1[0].shape\n",
    "\n",
    "    #define all four transformations\n",
    "    M1 = np.float32([[1,0,50],[0,1,50]]) #linear translation... lower right corner\n",
    "    M2 = np.float32([[1,0,-50],[0,1,50]]) #linear translation... lower left corner\n",
    "    M3 = np.float32([[1,0,50],[0,1,-50]]) #linear translation... upper right corner\n",
    "    M4 = np.float32([[1,0,-50],[0,1,-50]]) #linear translation... upper left corner\n",
    "\n",
    "    #start augmentation\n",
    "    for i in range(len(cv_img_1)):\n",
    "        origin = cv_img_1[i]\n",
    "        dst_ori_M1 = cv2.warpAffine(origin,M1,(cols,rows)) #applying translation to each images\n",
    "        dst_ori_M2 = cv2.warpAffine(origin,M2,(cols,rows))\n",
    "        dst_ori_M3 = cv2.warpAffine(origin,M3,(cols,rows))\n",
    "        dst_ori_M4 = cv2.warpAffine(origin,M4,(cols,rows))\n",
    "\n",
    "        flip = cv.flip(cv_img_1[i],1)\n",
    "        dst_flip_M1 = cv2.warpAffine(flip,M1,(cols,rows))\n",
    "        dst_flip_M2 = cv2.warpAffine(flip,M2,(cols,rows))\n",
    "        dst_flip_M3 = cv2.warpAffine(flip,M3,(cols,rows))\n",
    "        dst_flip_M4 = cv2.warpAffine(flip,M4,(cols,rows))\n",
    "\n",
    "        #rotating images for 24 orientations...\n",
    "        for angle in np.arange(0, 360, 15): \n",
    "            rotated  = imutils.rotate(origin, angle)\n",
    "            rotated1 = imutils.rotate(dst_ori_M1, angle)\n",
    "            rotated2 = imutils.rotate(dst_ori_M2, angle)\n",
    "            rotated3 = imutils.rotate(dst_ori_M3, angle)\n",
    "            rotated4 = imutils.rotate(dst_ori_M4, angle)\n",
    "\n",
    "            rotated_flip = imutils.rotate(flip, angle)\n",
    "            rotated_flip1 = imutils.rotate(dst_flip_M1, angle)\n",
    "            rotated_flip2 = imutils.rotate(dst_flip_M2, angle)\n",
    "            rotated_flip3 = imutils.rotate(dst_flip_M3, angle)\n",
    "            rotated_flip4 = imutils.rotate(dst_flip_M4, angle)\n",
    "\n",
    "            cv_img_aug_flip_trans.append(rotated)\n",
    "            cv_img_aug_flip_trans.append(rotated1)\n",
    "            cv_img_aug_flip_trans.append(rotated2)\n",
    "            cv_img_aug_flip_trans.append(rotated3)\n",
    "            cv_img_aug_flip_trans.append(rotated4)\n",
    "            cv_img_aug_flip_trans.append(rotated_flip)\n",
    "            cv_img_aug_flip_trans.append(rotated_flip1)\n",
    "            cv_img_aug_flip_trans.append(rotated_flip2)\n",
    "            cv_img_aug_flip_trans.append(rotated_flip3)\n",
    "            cv_img_aug_flip_trans.append(rotated_flip4)\n",
    "            \n",
    "    return cv_img_aug_flip_trans"
   ]
  },
  {
   "cell_type": "code",
   "execution_count": 3,
   "metadata": {},
   "outputs": [],
   "source": [
    "def Aug_list_comprehension(input_list):\n",
    "    \n",
    "    cv_img = input_list\n",
    "    \n",
    "    flip = [0, 1]\n",
    "    \n",
    "    #Linear translation\n",
    "\n",
    "    M0 = np.float32([[1,0,0],[0,1,0]]) #linear translation... lower right corner\n",
    "    M1 = np.float32([[1,0,10],[0,1,10]]) #linear translation... lower right corner\n",
    "    M2 = np.float32([[1,0,-10],[0,1,10]]) #linear translation... lower left corner\n",
    "    M3 = np.float32([[1,0,10],[0,1,-10]]) #linear translation... upper right corner\n",
    "    M4 = np.float32([[1,0,-10],[0,1,-10]]) #linear translation... upper left corner\n",
    "\n",
    "    M = [M0, M1, M2, M3, M4]\n",
    "    \n",
    "    rows, cols = cv_img[0].shape\n",
    "\n",
    "    \n",
    "    cv_img_flip = [cv.flip(item,f) for item in cv_img for f in flip]\n",
    "    \n",
    "    cv_img_flip_trans = [cv2.warpAffine(item, m, (cols, rows)) for item in cv_img_flip for m in M]\n",
    "    \n",
    "    cv_img_flip_trans_rotate = [imutils.rotate(item, angle) for item in cv_img_flip_trans \n",
    "                              for angle in np.arange(0,360, 15)]\n",
    "    \n",
    "    return cv_img_flip_trans_rotate"
   ]
  },
  {
   "cell_type": "code",
   "execution_count": 4,
   "metadata": {},
   "outputs": [
    {
     "name": "stdout",
     "output_type": "stream",
     "text": [
      "no of images: 5\n"
     ]
    }
   ],
   "source": [
    "path = glob.glob(\"Edge Tear/*.bmp\")\n",
    "\n",
    "cv_img_1 = []\n",
    "for img in path:\n",
    "    n = cv.imread(img,0) #read gray scale image\n",
    "    cv_img_1.append(n)\n",
    "    \n",
    "print(\"no of images: {}\".format(len(cv_img_1)))"
   ]
  },
  {
   "cell_type": "code",
   "execution_count": 5,
   "metadata": {},
   "outputs": [
    {
     "name": "stdout",
     "output_type": "stream",
     "text": [
      "list compre time: 20.05714702606201\n"
     ]
    }
   ],
   "source": [
    "import time\n",
    "\n",
    "# start = time.time()\n",
    "# cv_aug_for_loop = Aug_for_loops(cv_img_1)\n",
    "# time_taken_for_loop = time.time()-start\n",
    "\n",
    "start = time.time()\n",
    "cv_aug_list_compre = Aug_list_comprehension(cv_img_1)\n",
    "time_taken_list_comp = time.time()-start\n",
    "\n",
    "# print(\"for loop time: {}\".format(time_taken_for_loop))\n",
    "print(\"list compre time: {}\".format(time_taken_list_comp))"
   ]
  },
  {
   "cell_type": "code",
   "execution_count": 6,
   "metadata": {},
   "outputs": [
    {
     "name": "stdout",
     "output_type": "stream",
     "text": [
      "for loop time: 43.1304669380188\n"
     ]
    }
   ],
   "source": [
    "start = time.time()\n",
    "cv_aug_for_loop = Aug_for_loops(cv_img_1)\n",
    "time_taken_for_loop = time.time()-start\n",
    "\n",
    "print(\"for loop time: {}\".format(time_taken_for_loop))"
   ]
  },
  {
   "cell_type": "code",
   "execution_count": 7,
   "metadata": {},
   "outputs": [
    {
     "name": "stdout",
     "output_type": "stream",
     "text": [
      "compre len: 1200\n",
      "for len: 1200\n"
     ]
    }
   ],
   "source": [
    "print('compre len: {}'.format(len(cv_aug_list_compre)))\n",
    "print('for len: {}'.format(len(cv_aug_for_loop)))"
   ]
  },
  {
   "cell_type": "code",
   "execution_count": 8,
   "metadata": {},
   "outputs": [],
   "source": [
    "def read_img(img_list, img):\n",
    "    n = cv2.imread(img, 0)\n",
    "    img_list.append(n)\n",
    "#     print(type(img_list), type(n))\n",
    "    return img_list"
   ]
  },
  {
   "cell_type": "code",
   "execution_count": 9,
   "metadata": {},
   "outputs": [
    {
     "name": "stdout",
     "output_type": "stream",
     "text": [
      "0.36602091789245605\n"
     ]
    }
   ],
   "source": [
    "path = glob.glob(\"Edge Tear/*.bmp\")\n",
    "cv_image = []\n",
    "\n",
    "start = time.time()\n",
    "cv_image = [read_img(cv_image, img) for img in path]\n",
    "#cv_image_ = [cv2.imread(file) for file in glob.glob(\"Edge Tear/*.bmp\")]#very expensive terms of time\n",
    "print(time.time()-start)"
   ]
  },
  {
   "cell_type": "code",
   "execution_count": 10,
   "metadata": {},
   "outputs": [
    {
     "data": {
      "text/plain": [
       "5"
      ]
     },
     "execution_count": 10,
     "metadata": {},
     "output_type": "execute_result"
    }
   ],
   "source": [
    "len(cv_image)"
   ]
  },
  {
   "cell_type": "code",
   "execution_count": 11,
   "metadata": {},
   "outputs": [
    {
     "data": {
      "text/plain": [
       "list"
      ]
     },
     "execution_count": 11,
     "metadata": {},
     "output_type": "execute_result"
    }
   ],
   "source": [
    "type(cv_image[0])"
   ]
  },
  {
   "cell_type": "code",
   "execution_count": 24,
   "metadata": {},
   "outputs": [
    {
     "name": "stdout",
     "output_type": "stream",
     "text": [
      "<class 'list'> <class 'numpy.ndarray'>\n",
      "<class 'list'> <class 'numpy.ndarray'>\n",
      "<class 'list'> <class 'numpy.ndarray'>\n",
      "<class 'list'> <class 'numpy.ndarray'>\n",
      "<class 'list'> <class 'numpy.ndarray'>\n",
      "0.06600379943847656\n"
     ]
    }
   ],
   "source": [
    "path = glob.glob(\"Edge Tear/*.bmp\")\n",
    "\n",
    "cv_img_1 = []\n",
    "\n",
    "start = time.time()\n",
    "for img in path:\n",
    "    n = cv.imread(img,0) #read gray scale image\n",
    "    cv_img_1.append(n)\n",
    "    print(type(cv_img_1), type(n))\n",
    "print(time.time()-start)"
   ]
  },
  {
   "cell_type": "code",
   "execution_count": 25,
   "metadata": {},
   "outputs": [
    {
     "data": {
      "text/plain": [
       "list"
      ]
     },
     "execution_count": 25,
     "metadata": {},
     "output_type": "execute_result"
    }
   ],
   "source": [
    "type(cv_img_1)"
   ]
  },
  {
   "cell_type": "code",
   "execution_count": 26,
   "metadata": {},
   "outputs": [
    {
     "data": {
      "text/plain": [
       "numpy.ndarray"
      ]
     },
     "execution_count": 26,
     "metadata": {},
     "output_type": "execute_result"
    }
   ],
   "source": [
    "type(cv_img_1[0])"
   ]
  },
  {
   "cell_type": "code",
   "execution_count": 15,
   "metadata": {},
   "outputs": [],
   "source": [
    "# for i, image in enumerate(cv_aug_list_compre):\n",
    "#     cv.imwrite(\"New images/img\"+str(i)+\".bmp\", image)"
   ]
  },
  {
   "cell_type": "code",
   "execution_count": 16,
   "metadata": {},
   "outputs": [],
   "source": [
    "import os"
   ]
  },
  {
   "cell_type": "code",
   "execution_count": 17,
   "metadata": {},
   "outputs": [],
   "source": [
    "directories=[d for d in os.listdir(os.getcwd()) if os.path.isdir(d)]"
   ]
  },
  {
   "cell_type": "code",
   "execution_count": 50,
   "metadata": {},
   "outputs": [
    {
     "data": {
      "text/plain": [
       "['.ipynb_checkpoints',\n",
       " 'Edge Tear',\n",
       " 'Floating Lens',\n",
       " 'Folded Lens',\n",
       " 'Gapped Edge',\n",
       " 'In Lens Tear',\n",
       " 'Multiple Lens',\n",
       " 'No Lens',\n",
       " 'No Shell',\n",
       " 'Particles']"
      ]
     },
     "execution_count": 50,
     "metadata": {},
     "output_type": "execute_result"
    }
   ],
   "source": [
    "directories"
   ]
  },
  {
   "cell_type": "code",
   "execution_count": 51,
   "metadata": {},
   "outputs": [],
   "source": [
    "path = [item for item in directories[1:]]"
   ]
  },
  {
   "cell_type": "code",
   "execution_count": 52,
   "metadata": {},
   "outputs": [
    {
     "data": {
      "text/plain": [
       "['Edge Tear',\n",
       " 'Floating Lens',\n",
       " 'Folded Lens',\n",
       " 'Gapped Edge',\n",
       " 'In Lens Tear',\n",
       " 'Multiple Lens',\n",
       " 'No Lens',\n",
       " 'No Shell',\n",
       " 'Particles']"
      ]
     },
     "execution_count": 52,
     "metadata": {},
     "output_type": "execute_result"
    }
   ],
   "source": [
    "path"
   ]
  },
  {
   "cell_type": "code",
   "execution_count": 63,
   "metadata": {},
   "outputs": [],
   "source": [
    "def Aug_images(each_path):\n",
    "    \n",
    "#     path = each_path\n",
    "    \n",
    "    print('Inside: ', each_path, '...')\n",
    "    \n",
    "    cv_image = []\n",
    "\n",
    "    for img in glob.glob(each_path+'/*.bmp'):\n",
    "        n = cv.imread(img,0) #read gray scale image\n",
    "        cv_image.append(n)\n",
    "    \n",
    "    print('each Image type:',type(cv_image[0]))\n",
    "    print('....Images are taken from ', each_path, 'and read')\n",
    "    print('\\n')\n",
    "    \n",
    "    cv_aug_list_compre = Aug_list_comprehension(cv_image)\n",
    "    \n",
    "    \n",
    "    \n",
    "#     for i, image in enumerate(cv_aug_list_compre):\n",
    "#         result = cv.imwrite(each_path+\"/img\"+str(i)+\".bmp\", image)\n",
    "        \n",
    "#     return result"
   ]
  },
  {
   "cell_type": "code",
   "execution_count": 64,
   "metadata": {},
   "outputs": [
    {
     "name": "stdout",
     "output_type": "stream",
     "text": [
      "Inside:  Edge Tear ...\n",
      "each Image type: <class 'numpy.ndarray'>\n",
      "....Images are taken from  Edge Tear and read\n",
      "\n",
      "\n",
      "Inside:  Floating Lens ...\n",
      "each Image type: <class 'numpy.ndarray'>\n",
      "....Images are taken from  Floating Lens and read\n",
      "\n",
      "\n",
      "Inside:  Folded Lens ...\n",
      "each Image type: <class 'numpy.ndarray'>\n",
      "....Images are taken from  Folded Lens and read\n",
      "\n",
      "\n",
      "Inside:  Gapped Edge ...\n",
      "each Image type: <class 'numpy.ndarray'>\n",
      "....Images are taken from  Gapped Edge and read\n",
      "\n",
      "\n",
      "Inside:  In Lens Tear ...\n",
      "each Image type: <class 'numpy.ndarray'>\n",
      "....Images are taken from  In Lens Tear and read\n",
      "\n",
      "\n",
      "Inside:  Multiple Lens ...\n",
      "each Image type: <class 'numpy.ndarray'>\n",
      "....Images are taken from  Multiple Lens and read\n",
      "\n",
      "\n",
      "Inside:  No Lens ...\n",
      "each Image type: <class 'numpy.ndarray'>\n",
      "....Images are taken from  No Lens and read\n",
      "\n",
      "\n",
      "Inside:  No Shell ...\n",
      "each Image type: <class 'numpy.ndarray'>\n",
      "....Images are taken from  No Shell and read\n",
      "\n",
      "\n",
      "Inside:  Particles ...\n",
      "each Image type: <class 'numpy.ndarray'>\n",
      "....Images are taken from  Particles and read\n",
      "\n",
      "\n"
     ]
    }
   ],
   "source": [
    "result = [Aug_images(item) for item in path]"
   ]
  },
  {
   "cell_type": "code",
   "execution_count": 54,
   "metadata": {},
   "outputs": [
    {
     "data": {
      "text/plain": [
       "['Edge Tear',\n",
       " 'Floating Lens',\n",
       " 'Folded Lens',\n",
       " 'Gapped Edge',\n",
       " 'In Lens Tear',\n",
       " 'Multiple Lens',\n",
       " 'No Lens',\n",
       " 'No Shell',\n",
       " 'Particles']"
      ]
     },
     "execution_count": 54,
     "metadata": {},
     "output_type": "execute_result"
    }
   ],
   "source": [
    "[item for item in path]"
   ]
  },
  {
   "cell_type": "code",
   "execution_count": 1,
   "metadata": {},
   "outputs": [],
   "source": [
    "import os"
   ]
  },
  {
   "cell_type": "code",
   "execution_count": 4,
   "metadata": {},
   "outputs": [
    {
     "data": {
      "text/plain": [
       "['.ipynb_checkpoints',\n",
       " 'Augmentation.ipynb',\n",
       " 'aug_optimising.ipynb',\n",
       " 'data_reshape_rotate.ipynb',\n",
       " 'Edge Tear',\n",
       " 'Floating Lens',\n",
       " 'Folded Lens',\n",
       " 'Gapped Edge',\n",
       " 'Image_Augmentation.ipynb',\n",
       " 'In Lens Tear',\n",
       " 'Multiple Lens',\n",
       " 'No Lens',\n",
       " 'No Shell',\n",
       " 'Particles']"
      ]
     },
     "execution_count": 4,
     "metadata": {},
     "output_type": "execute_result"
    }
   ],
   "source": [
    "os.listdir() #list of directories"
   ]
  },
  {
   "cell_type": "code",
   "execution_count": 5,
   "metadata": {},
   "outputs": [
    {
     "data": {
      "text/plain": [
       "'C:\\\\Users\\\\aim\\\\play'"
      ]
     },
     "execution_count": 5,
     "metadata": {},
     "output_type": "execute_result"
    }
   ],
   "source": [
    "os.getcwd() #gets current working directory path"
   ]
  },
  {
   "cell_type": "code",
   "execution_count": 6,
   "metadata": {},
   "outputs": [
    {
     "data": {
      "text/plain": [
       "['$RECYCLE.BIN',\n",
       " '.csv',\n",
       " '.pdf',\n",
       " 'Appraisal.pdf',\n",
       " 'Atl latest version spell check',\n",
       " 'Biotroniks',\n",
       " 'BOOTCAMP (C) - Shortcut.lnk',\n",
       " 'bootcamp5.1.5769',\n",
       " 'camera settings11217.prproj',\n",
       " 'CLMI',\n",
       " 'CLMI Configs',\n",
       " 'CLMI Configs.txt',\n",
       " 'CLMI Images',\n",
       " 'DESInspection Configs',\n",
       " 'eula.1028.txt',\n",
       " 'eula.1031.txt',\n",
       " 'eula.1033.txt',\n",
       " 'eula.1036.txt',\n",
       " 'eula.1040.txt',\n",
       " 'eula.1041.txt',\n",
       " 'eula.1042.txt',\n",
       " 'eula.2052.txt',\n",
       " 'eula.3082.txt',\n",
       " 'example',\n",
       " 'globdata.ini',\n",
       " 'Halcon 12.0.2',\n",
       " 'halcon-13.0.1-windows.exe',\n",
       " 'IA_ENG copy .xlsx',\n",
       " 'install.exe',\n",
       " 'install.ini',\n",
       " 'install.res.1028.dll',\n",
       " 'install.res.1031.dll',\n",
       " 'install.res.1033.dll',\n",
       " 'install.res.1036.dll',\n",
       " 'install.res.1040.dll',\n",
       " 'install.res.1041.dll',\n",
       " 'install.res.1042.dll',\n",
       " 'install.res.2052.dll',\n",
       " 'install.res.3082.dll',\n",
       " 'IPIe Work list.xls',\n",
       " 'lec29.pdf',\n",
       " 'lens',\n",
       " 'LS3 LPC Documents List.xls',\n",
       " 'msdia80.dll',\n",
       " 'ReleaseVer1.0.0.5_30_07_2018.7z',\n",
       " 'System Volume Information',\n",
       " 'Test.txt',\n",
       " 'tested',\n",
       " 'use tis details.txt',\n",
       " 'vcredist.bmp',\n",
       " 'VC_RED.cab',\n",
       " 'VC_RED.MSI']"
      ]
     },
     "execution_count": 6,
     "metadata": {},
     "output_type": "execute_result"
    }
   ],
   "source": [
    "os.listdir('D:\\\\')"
   ]
  },
  {
   "cell_type": "code",
   "execution_count": 18,
   "metadata": {},
   "outputs": [
    {
     "data": {
      "text/plain": [
       "True"
      ]
     },
     "execution_count": 18,
     "metadata": {},
     "output_type": "execute_result"
    }
   ],
   "source": [
    "os.path.isdir('No Shell/')"
   ]
  },
  {
   "cell_type": "code",
   "execution_count": 20,
   "metadata": {},
   "outputs": [
    {
     "data": {
      "text/plain": [
       "False"
      ]
     },
     "execution_count": 20,
     "metadata": {},
     "output_type": "execute_result"
    }
   ],
   "source": [
    "os.path.isdir('tested')"
   ]
  },
  {
   "cell_type": "code",
   "execution_count": 35,
   "metadata": {},
   "outputs": [
    {
     "data": {
      "text/plain": [
       "'C:\\\\Users\\\\aim\\\\play'"
      ]
     },
     "execution_count": 35,
     "metadata": {},
     "output_type": "execute_result"
    }
   ],
   "source": [
    "os.getcwd()"
   ]
  },
  {
   "cell_type": "code",
   "execution_count": 40,
   "metadata": {},
   "outputs": [],
   "source": [
    "directory = os.getcwd()+'\\Edge Tear/'"
   ]
  },
  {
   "cell_type": "code",
   "execution_count": 41,
   "metadata": {},
   "outputs": [
    {
     "name": "stdout",
     "output_type": "stream",
     "text": [
      "C:\\Users\\aim\\play\\Edge Tear/\n"
     ]
    }
   ],
   "source": [
    "print(directory)"
   ]
  },
  {
   "cell_type": "code",
   "execution_count": 43,
   "metadata": {},
   "outputs": [
    {
     "name": "stdout",
     "output_type": "stream",
     "text": [
      "<generator object walk at 0x00000000069B20C0>\n"
     ]
    }
   ],
   "source": [
    "os.walk(directory)"
   ]
  },
  {
   "cell_type": "code",
   "execution_count": 109,
   "metadata": {},
   "outputs": [
    {
     "name": "stdout",
     "output_type": "stream",
     "text": [
      "C:\\Users\\aim\\play\\Edge Tear/\n",
      "LS3_LPC 13 2019-05-28 11-32-21.330 M1 T7 1 0.bmp\n",
      "LS3_LPC 13 2019-05-29 14-47-30.562 M1 T3 1 0.bmp\n",
      "LS3_LPC 13 2019-05-30 11-11-11.635 M1 T1 1 0.bmp\n",
      "LS3_LPC 13 2019-05-31 10-44-33.700 M1 T3 1 0.bmp\n",
      "LS3_LPC 13 2019-05-31 11-06-37.058 M1 T3 1 0.bmp\n"
     ]
    }
   ],
   "source": [
    "for r, d, f in os.walk(directory):\n",
    "    print(directory)\n",
    "    for file in f:\n",
    "        if '.bmp' in file:\n",
    "            #files.append(os.path.join(r, file))\n",
    "            print(file)"
   ]
  },
  {
   "cell_type": "code",
   "execution_count": 49,
   "metadata": {},
   "outputs": [
    {
     "name": "stdout",
     "output_type": "stream",
     "text": [
      "New Text Document.txt\n"
     ]
    }
   ],
   "source": [
    "for r, d, f in os.walk(directory):\n",
    "    for file in f:\n",
    "        if '.txt' in file:\n",
    "            #files.append(os.path.join(r, file))\n",
    "            print(file)"
   ]
  },
  {
   "cell_type": "code",
   "execution_count": 68,
   "metadata": {},
   "outputs": [],
   "source": [
    "directory_1 = [d for d in os.listdir(os.getcwd()) if os.path.isdir(d)]"
   ]
  },
  {
   "cell_type": "code",
   "execution_count": 69,
   "metadata": {},
   "outputs": [
    {
     "data": {
      "text/plain": [
       "['.ipynb_checkpoints',\n",
       " 'Edge Tear',\n",
       " 'Floating Lens',\n",
       " 'Folded Lens',\n",
       " 'Gapped Edge',\n",
       " 'In Lens Tear',\n",
       " 'Multiple Lens',\n",
       " 'No Lens',\n",
       " 'No Shell',\n",
       " 'Particles']"
      ]
     },
     "execution_count": 69,
     "metadata": {},
     "output_type": "execute_result"
    }
   ],
   "source": [
    "directory_1"
   ]
  },
  {
   "cell_type": "code",
   "execution_count": 91,
   "metadata": {},
   "outputs": [
    {
     "data": {
      "text/plain": [
       "'Folded Lens'"
      ]
     },
     "execution_count": 91,
     "metadata": {},
     "output_type": "execute_result"
    }
   ],
   "source": [
    "directory_1[3]"
   ]
  },
  {
   "cell_type": "code",
   "execution_count": 118,
   "metadata": {},
   "outputs": [],
   "source": [
    "def read_img(direct):\n",
    "    #direct = os.getcwd()+'\\\\'+ direct+'/'\n",
    "    print('inside ', direct)\n",
    "    for r, d, f in os.walk(direct):\n",
    "        for file in f:\n",
    "            if '.bmp' in file:\n",
    "                print(file)"
   ]
  },
  {
   "cell_type": "code",
   "execution_count": 185,
   "metadata": {},
   "outputs": [
    {
     "name": "stdout",
     "output_type": "stream",
     "text": [
      "LS3_LPC 13 2019-05-28 11-32-21.330 M1 T7 1 0.bmp\n",
      "LS3_LPC 13 2019-05-29 14-47-30.562 M1 T3 1 0.bmp\n",
      "LS3_LPC 13 2019-05-30 11-11-11.635 M1 T1 1 0.bmp\n",
      "LS3_LPC 13 2019-05-31 10-44-33.700 M1 T3 1 0.bmp\n",
      "LS3_LPC 13 2019-05-31 11-06-37.058 M1 T3 1 0.bmp\n",
      "New Text Document.txt\n"
     ]
    }
   ],
   "source": [
    "for r, d, f in os.walk(directory_1[1]):\n",
    "        for file in f:\n",
    "            print(file)"
   ]
  },
  {
   "cell_type": "code",
   "execution_count": 120,
   "metadata": {},
   "outputs": [
    {
     "name": "stdout",
     "output_type": "stream",
     "text": [
      "inside  .ipynb_checkpoints\n",
      "inside  Edge Tear\n",
      "LS3_LPC 13 2019-05-28 11-32-21.330 M1 T7 1 0.bmp\n",
      "LS3_LPC 13 2019-05-29 14-47-30.562 M1 T3 1 0.bmp\n",
      "LS3_LPC 13 2019-05-30 11-11-11.635 M1 T1 1 0.bmp\n",
      "LS3_LPC 13 2019-05-31 10-44-33.700 M1 T3 1 0.bmp\n",
      "LS3_LPC 13 2019-05-31 11-06-37.058 M1 T3 1 0.bmp\n",
      "inside  Floating Lens\n",
      "LS3_LPC 13 2019-05-28 10-35-59.953 M1 T1 1 0.bmp\n",
      "LS3_LPC 13 2019-05-28 10-36-00.385 M1 T1 1 0.bmp\n",
      "LS3_LPC 13 2019-05-28 11-13-20.479 M1 T2 1 0.bmp\n",
      "LS3_LPC 13 2019-05-28 12-27-10.277 M1 T2 1 0.bmp\n",
      "LS3_LPC 13 2019-05-28 12-27-10.613 M1 T2 1 0.bmp\n",
      "inside  Folded Lens\n",
      "LS3_LPC 13 2019-05-28 11-32-24.690 M1 T7 1 0.bmp\n",
      "LS3_LPC 13 2019-05-28 11-52-49.349 M1 T2 1 0.bmp\n",
      "LS3_LPC 13 2019-05-28 13-51-22.141 M1 T3 1 0.bmp\n",
      "LS3_LPC 13 2019-05-28 14-11-11.636 M1 T7 1 0.bmp\n",
      "LS3_LPC 13 2019-05-28 14-37-47.525 M1 T2 1 0.bmp\n",
      "inside  Gapped Edge\n",
      "LS3_LPC 13 2019-05-28 10-40-39.284 M1 T7 1 0.bmp\n",
      "LS3_LPC 13 2019-05-29 14-44-33.646 M1 T4 1 0.bmp\n",
      "LS3_LPC 13 2019-05-29 15-29-01.772 M1 T4 1 0.bmp\n",
      "LS3_LPC 13 2019-05-30 11-09-43.443 M1 T7 1 0.bmp\n",
      "LS3_LPC 13 2019-05-30 11-22-56.869 M1 T6 1 0.bmp\n",
      "inside  In Lens Tear\n",
      "LS3_LPC 13 2019-05-28 10-35-32.847 M1 T1 1 0.bmp\n",
      "LS3_LPC 13 2019-05-28 10-35-59.058 M1 T1 1 0.bmp\n",
      "inside  Multiple Lens\n",
      "LS3_LPC 13 2019-05-28 10-39-18.015 M1 T2 3 MultiLens.bmp\n",
      "LS3_LPC 13 2019-05-28 10-39-50.567 M1 T2 3 MultiLens.bmp\n",
      "LS3_LPC 13 2019-05-28 10-49-28.572 M1 T3 3 MultiLens.bmp\n",
      "LS3_LPC 13 2019-05-28 10-49-40.606 M1 T3 3 MultiLens.bmp\n",
      "LS3_LPC 13 2019-05-28 10-59-02.051 M1 T4 3 MultiLens.bmp\n",
      "inside  No Lens\n",
      "LS3_LPC 13 2019-05-28 11-15-15.961 M1 T3 3 NoLens.bmp\n",
      "LS3_LPC 13 2019-05-28 11-45-48.666 M1 T5 3 NoLens.bmp\n",
      "LS3_LPC 13 2019-05-28 15-43-57.166 M1 T1 3 NoLens.bmp\n",
      "LS3_LPC 13 2019-05-28 15-43-57.221 M1 T1 3 NoLens.bmp\n",
      "LS3_LPC 13 2019-05-28 15-43-57.478 M1 T1 3 NoLens.bmp\n",
      "inside  No Shell\n",
      "LS3_LPC 13 2019-05-28 13-55-27.579 M1 T1 3 NoSaline.bmp\n",
      "inside  Particles\n",
      "LS3_LPC 13 2019-05-28 10-36-21.083 M1 T1 1 0.bmp\n",
      "LS3_LPC 13 2019-05-28 10-37-29.557 M1 T6 1 0.bmp\n",
      "LS3_LPC 13 2019-05-28 10-37-45.023 M1 T6 1 0.bmp\n",
      "LS3_LPC 13 2019-05-28 10-38-30.169 M1 T6 1 0.bmp\n",
      "LS3_LPC 13 2019-05-28 10-38-41.127 M1 T6 1 0.bmp\n",
      "total no of files read.. 10\n"
     ]
    }
   ],
   "source": [
    "result = [read_img(d) for d in directory_1]\n",
    "print('total no of files read..', len(result))"
   ]
  },
  {
   "cell_type": "code",
   "execution_count": 141,
   "metadata": {},
   "outputs": [],
   "source": [
    "ex = []"
   ]
  },
  {
   "cell_type": "code",
   "execution_count": 142,
   "metadata": {},
   "outputs": [
    {
     "data": {
      "text/plain": [
       "True"
      ]
     },
     "execution_count": 142,
     "metadata": {},
     "output_type": "execute_result"
    }
   ],
   "source": [
    "len(ex) == False"
   ]
  },
  {
   "cell_type": "code",
   "execution_count": 144,
   "metadata": {},
   "outputs": [
    {
     "name": "stdout",
     "output_type": "stream",
     "text": [
      "Nil\n"
     ]
    }
   ],
   "source": [
    "if len(ex) == 0:\n",
    "    print('Nil')\n",
    "else:\n",
    "    print('OK')"
   ]
  },
  {
   "cell_type": "code",
   "execution_count": 168,
   "metadata": {},
   "outputs": [],
   "source": [
    "import numpy as np\n",
    "n1 = [1, 2, 3]\n",
    "n2 = np.array([4, 5, 6])"
   ]
  },
  {
   "cell_type": "code",
   "execution_count": 169,
   "metadata": {},
   "outputs": [],
   "source": [
    "n1.append(n2)"
   ]
  },
  {
   "cell_type": "code",
   "execution_count": 170,
   "metadata": {},
   "outputs": [
    {
     "data": {
      "text/plain": [
       "[1, 2, 3, array([4, 5, 6])]"
      ]
     },
     "execution_count": 170,
     "metadata": {},
     "output_type": "execute_result"
    }
   ],
   "source": [
    "n1"
   ]
  },
  {
   "cell_type": "code",
   "execution_count": 171,
   "metadata": {},
   "outputs": [],
   "source": [
    "n3 = [np.array([1]), np.array([2])]"
   ]
  },
  {
   "cell_type": "code",
   "execution_count": 172,
   "metadata": {},
   "outputs": [],
   "source": [
    "n1.append(n3)"
   ]
  },
  {
   "cell_type": "code",
   "execution_count": 173,
   "metadata": {},
   "outputs": [
    {
     "data": {
      "text/plain": [
       "[1, 2, 3, array([4, 5, 6]), [array([1]), array([2])]]"
      ]
     },
     "execution_count": 173,
     "metadata": {},
     "output_type": "execute_result"
    }
   ],
   "source": [
    "n1"
   ]
  },
  {
   "cell_type": "code",
   "execution_count": 174,
   "metadata": {},
   "outputs": [
    {
     "data": {
      "text/plain": [
       "1"
      ]
     },
     "execution_count": 174,
     "metadata": {},
     "output_type": "execute_result"
    }
   ],
   "source": [
    "n1[0]"
   ]
  },
  {
   "cell_type": "code",
   "execution_count": 175,
   "metadata": {},
   "outputs": [
    {
     "data": {
      "text/plain": [
       "array([4, 5, 6])"
      ]
     },
     "execution_count": 175,
     "metadata": {},
     "output_type": "execute_result"
    }
   ],
   "source": [
    "n1[3]"
   ]
  },
  {
   "cell_type": "code",
   "execution_count": 176,
   "metadata": {},
   "outputs": [
    {
     "data": {
      "text/plain": [
       "[array([1]), array([2])]"
      ]
     },
     "execution_count": 176,
     "metadata": {},
     "output_type": "execute_result"
    }
   ],
   "source": [
    "n1[4]"
   ]
  },
  {
   "cell_type": "code",
   "execution_count": 177,
   "metadata": {},
   "outputs": [
    {
     "data": {
      "text/plain": [
       "5"
      ]
     },
     "execution_count": 177,
     "metadata": {},
     "output_type": "execute_result"
    }
   ],
   "source": [
    "len(n1)"
   ]
  },
  {
   "cell_type": "code",
   "execution_count": 180,
   "metadata": {},
   "outputs": [],
   "source": [
    "n4 = np.arange(100,112)"
   ]
  },
  {
   "cell_type": "code",
   "execution_count": 181,
   "metadata": {},
   "outputs": [
    {
     "name": "stdout",
     "output_type": "stream",
     "text": [
      "100\n",
      "101\n",
      "102\n",
      "103\n",
      "104\n",
      "105\n",
      "106\n",
      "107\n",
      "108\n",
      "109\n",
      "110\n",
      "111\n"
     ]
    }
   ],
   "source": [
    "for i,n in enumerate(n4):\n",
    "    print(n)"
   ]
  },
  {
   "cell_type": "code",
   "execution_count": 203,
   "metadata": {},
   "outputs": [
    {
     "data": {
      "text/plain": [
       "'C:\\\\Users\\\\aim\\\\play\\\\In Lens Tear'"
      ]
     },
     "execution_count": 203,
     "metadata": {},
     "output_type": "execute_result"
    }
   ],
   "source": [
    "os.getcwd()+'\\\\'+directory_1[5]"
   ]
  },
  {
   "cell_type": "code",
   "execution_count": 206,
   "metadata": {},
   "outputs": [
    {
     "name": "stdout",
     "output_type": "stream",
     "text": [
      "None\n",
      "LS3_LPC 13 2019-05-28 10-35-32.847 M1 T1 1 0.bmp\n",
      "<class 'str'>\n",
      "None\n",
      "LS3_LPC 13 2019-05-28 10-35-59.058 M1 T1 1 0.bmp\n",
      "<class 'str'>\n"
     ]
    }
   ],
   "source": [
    "cv_im = []\n",
    "import matplotlib.pyplot as plt\n",
    "for r,d,f in os.walk(os.getcwd()+'\\\\'+directory_1[5]):\n",
    "    for file in f:\n",
    "        if '.bmp' in file:\n",
    "            n = cv2.imread(file,0)\n",
    "            print(n)\n",
    "            print(file)\n",
    "            print(type(file))"
   ]
  },
  {
   "cell_type": "code",
   "execution_count": 211,
   "metadata": {},
   "outputs": [
    {
     "name": "stdout",
     "output_type": "stream",
     "text": [
      "LS3_LPC 13 2019-05-28 10-35-32.847 M1 T1 1 0.bmp\n",
      "LS3_LPC 13 2019-05-28 10-35-59.058 M1 T1 1 0.bmp\n"
     ]
    }
   ],
   "source": [
    "n\n",
    "for r, d, f in os.walk(directory_1[5]):\n",
    "    for file in f:\n",
    "        print(file)\n",
    "        n = file"
   ]
  },
  {
   "cell_type": "code",
   "execution_count": 212,
   "metadata": {},
   "outputs": [
    {
     "data": {
      "text/plain": [
       "'LS3_LPC 13 2019-05-28 10-35-59.058 M1 T1 1 0.bmp'"
      ]
     },
     "execution_count": 212,
     "metadata": {},
     "output_type": "execute_result"
    }
   ],
   "source": [
    "n"
   ]
  },
  {
   "cell_type": "code",
   "execution_count": 213,
   "metadata": {},
   "outputs": [
    {
     "data": {
      "text/plain": [
       "str"
      ]
     },
     "execution_count": 213,
     "metadata": {},
     "output_type": "execute_result"
    }
   ],
   "source": [
    "type(n)"
   ]
  },
  {
   "cell_type": "code",
   "execution_count": 215,
   "metadata": {},
   "outputs": [],
   "source": [
    "img_1 = cv2.imread(n,0)"
   ]
  },
  {
   "cell_type": "code",
   "execution_count": 217,
   "metadata": {},
   "outputs": [
    {
     "data": {
      "text/plain": [
       "NoneType"
      ]
     },
     "execution_count": 217,
     "metadata": {},
     "output_type": "execute_result"
    }
   ],
   "source": [
    "type(img_1)"
   ]
  },
  {
   "cell_type": "code",
   "execution_count": 223,
   "metadata": {},
   "outputs": [],
   "source": [
    "img_1 = cv2.imread(directory_1[5]+'\\\\'+n,0)"
   ]
  },
  {
   "cell_type": "code",
   "execution_count": 224,
   "metadata": {},
   "outputs": [
    {
     "data": {
      "text/plain": [
       "numpy.ndarray"
      ]
     },
     "execution_count": 224,
     "metadata": {},
     "output_type": "execute_result"
    }
   ],
   "source": [
    "type(img_1)"
   ]
  },
  {
   "cell_type": "code",
   "execution_count": 222,
   "metadata": {},
   "outputs": [
    {
     "data": {
      "text/plain": [
       "'In Lens Tear\\\\LS3_LPC 13 2019-05-28 10-35-59.058 M1 T1 1 0.bmp'"
      ]
     },
     "execution_count": 222,
     "metadata": {},
     "output_type": "execute_result"
    }
   ],
   "source": [
    "directory_1[5]+'\\\\'+n"
   ]
  },
  {
   "cell_type": "code",
   "execution_count": 233,
   "metadata": {},
   "outputs": [],
   "source": [
    "import imutils"
   ]
  },
  {
   "cell_type": "code",
   "execution_count": 236,
   "metadata": {},
   "outputs": [],
   "source": [
    "cv_im = []\n",
    "import matplotlib.pyplot as plt\n",
    "for r,d,f in os.walk(directory_1[5]):\n",
    "    for file in f:\n",
    "        if '.bmp' in file:\n",
    "            n = cv2.imread(directory_1[5]+'\\\\'+file,0)\n",
    "            cv_im.append(n)\n",
    "            n = cv2.flip(n, 1)\n",
    "            cv_im.append(n)\n",
    "            #plt.imshow(n, cmap='gray')\n",
    "            "
   ]
  },
  {
   "cell_type": "code",
   "execution_count": 237,
   "metadata": {},
   "outputs": [
    {
     "data": {
      "text/plain": [
       "4"
      ]
     },
     "execution_count": 237,
     "metadata": {},
     "output_type": "execute_result"
    }
   ],
   "source": [
    "len(cv_im)"
   ]
  },
  {
   "cell_type": "code",
   "execution_count": 231,
   "metadata": {},
   "outputs": [
    {
     "data": {
      "text/plain": [
       "<matplotlib.image.AxesImage at 0xbee9fd0>"
      ]
     },
     "execution_count": 231,
     "metadata": {},
     "output_type": "execute_result"
    },
    {
     "data": {
      "image/png": "[encoded data removed]",
      "text/plain": [
       "<Figure size 432x288 with 1 Axes>"
      ]
     },
     "metadata": {
      "needs_background": "light"
     },
     "output_type": "display_data"
    }
   ],
   "source": [
    "plt.imshow(cv_im[0], 'gray')"
   ]
  },
  {
   "cell_type": "code",
   "execution_count": 232,
   "metadata": {},
   "outputs": [
    {
     "data": {
      "text/plain": [
       "<matplotlib.image.AxesImage at 0x3fe22e8>"
      ]
     },
     "execution_count": 232,
     "metadata": {},
     "output_type": "execute_result"
    },
    {
     "data": {
      "image/png": "[encoded data removed]",
      "text/plain": [
       "<Figure size 432x288 with 1 Axes>"
      ]
     },
     "metadata": {
      "needs_background": "light"
     },
     "output_type": "display_data"
    }
   ],
   "source": [
    "plt.imshow(cv_im[1], 'gray')"
   ]
  },
  {
   "cell_type": "code",
   "execution_count": 238,
   "metadata": {},
   "outputs": [],
   "source": [
    "cv_im_1 = []\n",
    "import matplotlib.pyplot as plt\n",
    "for r,d,f in os.walk(directory_1[5]):\n",
    "    for file in f:\n",
    "        if '.bmp' in file:\n",
    "            n = cv2.imread(directory_1[5]+'\\\\'+file,0)\n",
    "            cv_im_1.append([imutils.rotate(n,angle) for angle in np.arange(0,360,90)])"
   ]
  },
  {
   "cell_type": "code",
   "execution_count": 239,
   "metadata": {},
   "outputs": [
    {
     "name": "stdout",
     "output_type": "stream",
     "text": [
      "2\n",
      "4\n"
     ]
    }
   ],
   "source": [
    "print(len(cv_im_1))\n",
    "print(len(cv_im_1[0]))"
   ]
  },
  {
   "cell_type": "code",
   "execution_count": 240,
   "metadata": {},
   "outputs": [],
   "source": [
    "import time"
   ]
  },
  {
   "cell_type": "code",
   "execution_count": 262,
   "metadata": {},
   "outputs": [
    {
     "name": "stdout",
     "output_type": "stream",
     "text": [
      "time taken  0.31201791763305664\n",
      "length of original list  4\n",
      "lenth of rotated list  16\n"
     ]
    }
   ],
   "source": [
    "start = time.time()\n",
    "for_rote = []\n",
    "for i, img in enumerate(cv_im):\n",
    "    for angle in range(0,360,90):\n",
    "        for_rote.append(imutils.rotate(img, angle))\n",
    "        \n",
    "print('time taken ', time.time()-start)\n",
    "print('length of original list ',len(cv_im))\n",
    "print('lenth of rotated list ', len(for_rote))\n"
   ]
  },
  {
   "cell_type": "code",
   "execution_count": 263,
   "metadata": {},
   "outputs": [
    {
     "name": "stdout",
     "output_type": "stream",
     "text": [
      "time taken 0.3210182189941406\n",
      "length of original list  4\n",
      "length of rotate list 16\n"
     ]
    }
   ],
   "source": [
    "start = time.time()\n",
    "list_compre = [imutils.rotate(image, angel) for image in cv_im for angel in np.arange(0,360,90)]\n",
    "\n",
    "print('time taken', time.time()-start)\n",
    "print('length of original list ', len(cv_im))\n",
    "print('length of rotate list', len(list_compre))"
   ]
  },
  {
   "cell_type": "code",
   "execution_count": null,
   "metadata": {},
   "outputs": [],
   "source": []
  }
 ],
 "metadata": {
  "kernelspec": {
   "display_name": "Python 3",
   "language": "python",
   "name": "python3"
  },
  "language_info": {
   "codemirror_mode": {
    "name": "ipython",
    "version": 3
   },
   "file_extension": ".py",
   "mimetype": "text/x-python",
   "name": "python",
   "nbconvert_exporter": "python",
   "pygments_lexer": "ipython3",
   "version": "3.7.3"
  }
 },
 "nbformat": 4,
 "nbformat_minor": 2
}
