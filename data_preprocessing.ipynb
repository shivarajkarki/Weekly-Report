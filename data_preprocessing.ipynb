{
 "cells": [
  {
   "cell_type": "code",
   "execution_count": 1,
   "metadata": {},
   "outputs": [],
   "source": [
    "import tensorflow as tf\n",
    "import numpy as np"
   ]
  },
  {
   "cell_type": "code",
   "execution_count": 2,
   "metadata": {},
   "outputs": [
    {
     "name": "stderr",
     "output_type": "stream",
     "text": [
      "Using TensorFlow backend.\n"
     ]
    }
   ],
   "source": [
    "from keras.datasets import cifar10"
   ]
  },
  {
   "cell_type": "code",
   "execution_count": 3,
   "metadata": {},
   "outputs": [],
   "source": [
    "(x_train, y_train), (x_test, y_test) = cifar10.load_data()"
   ]
  },
  {
   "cell_type": "code",
   "execution_count": 4,
   "metadata": {},
   "outputs": [
    {
     "name": "stdout",
     "output_type": "stream",
     "text": [
      "X train: \t(50000, 32, 32, 3)\n",
      "Y train: \t(50000, 1)\n",
      "X test: \t(10000, 32, 32, 3)\n",
      "Y test: \t(10000, 1)\n"
     ]
    }
   ],
   "source": [
    "print('X train: \\t{}'.format(x_train.shape))\n",
    "print('Y train: \\t{}'.format(y_train.shape))\n",
    "print('X test: \\t{}'.format(x_test.shape))\n",
    "print('Y test: \\t{}'.format(y_test.shape))"
   ]
  },
  {
   "cell_type": "code",
   "execution_count": 5,
   "metadata": {},
   "outputs": [],
   "source": [
    "x_train_ = tf.convert_to_tensor(x_train, tf.float32)"
   ]
  },
  {
   "cell_type": "code",
   "execution_count": 6,
   "metadata": {},
   "outputs": [],
   "source": [
    "mean, variance =tf.nn.moments(x_train_, axes = [0,1,2])#mean w.r.t each axis"
   ]
  },
  {
   "cell_type": "code",
   "execution_count": 7,
   "metadata": {},
   "outputs": [
    {
     "name": "stdout",
     "output_type": "stream",
     "text": [
      "[array([83.88608, 83.88608, 83.88608], dtype=float32), array([4969.1104, 4679.8154, 4645.5557], dtype=float32)]\n"
     ]
    }
   ],
   "source": [
    "sess = tf.Session()\n",
    "print( sess.run([mean, variance]))"
   ]
  },
  {
   "cell_type": "code",
   "execution_count": 8,
   "metadata": {},
   "outputs": [
    {
     "name": "stdout",
     "output_type": "stream",
     "text": [
      "[50000    32    32     3]\n"
     ]
    }
   ],
   "source": [
    "x_train_normalized = tf.nn.batch_norm_with_global_normalization(t=x_train_, m = mean, v= variance, beta=None, \n",
    "                                                                gamma=None, variance_epsilon=1e-7, \n",
    "                                                                scale_after_normalization=None)\n",
    "print(sess.run(tf.shape(x_train_normalized)))"
   ]
  },
  {
   "cell_type": "code",
   "execution_count": 9,
   "metadata": {},
   "outputs": [
    {
     "name": "stdout",
     "output_type": "stream",
     "text": [
      "[array([0.5927674 , 0.57485735, 0.44807526], dtype=float32), array([0.69964117, 0.72018415, 0.821156  ], dtype=float32)]\n"
     ]
    }
   ],
   "source": [
    "mean_norm, var_norm = tf.nn.moments(x_train_normalized, axes=[0,1,2])\n",
    "print(sess.run([mean_norm, var_norm]))"
   ]
  },
  {
   "cell_type": "code",
   "execution_count": 10,
   "metadata": {},
   "outputs": [],
   "source": [
    "# sess.run(x_train_normalized[0,:])"
   ]
  },
  {
   "cell_type": "code",
   "execution_count": 11,
   "metadata": {},
   "outputs": [],
   "source": [
    "def data_preprocess(x):\n",
    "    x = tf.convert_to_tensor(x, tf.float32)\n",
    "    mean, variance = tf.nn.moments(x, axes=[0,1,2])\n",
    "    x_normalized = tf.nn.batch_norm_with_global_normalization(t=x, m = mean, v= variance, beta=None, \n",
    "                                                                gamma=None, variance_epsilon=1e-7, \n",
    "                                                                scale_after_normalization=None)\n",
    "    return x_normalized"
   ]
  },
  {
   "cell_type": "code",
   "execution_count": 12,
   "metadata": {},
   "outputs": [
    {
     "data": {
      "text/plain": [
       "numpy.ndarray"
      ]
     },
     "execution_count": 12,
     "metadata": {},
     "output_type": "execute_result"
    }
   ],
   "source": [
    "type(np.array(mean))"
   ]
  },
  {
   "cell_type": "code",
   "execution_count": null,
   "metadata": {},
   "outputs": [],
   "source": []
  }
 ],
 "metadata": {
  "kernelspec": {
   "display_name": "Python 3",
   "language": "python",
   "name": "python3"
  },
  "language_info": {
   "codemirror_mode": {
    "name": "ipython",
    "version": 3
   },
   "file_extension": ".py",
   "mimetype": "text/x-python",
   "name": "python",
   "nbconvert_exporter": "python",
   "pygments_lexer": "ipython3",
   "version": "3.7.3"
  }
 },
 "nbformat": 4,
 "nbformat_minor": 2
}
