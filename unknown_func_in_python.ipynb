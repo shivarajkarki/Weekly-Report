{
 "cells": [
  {
   "cell_type": "code",
   "execution_count": 1,
   "metadata": {},
   "outputs": [],
   "source": [
    "import numpy as np"
   ]
  },
  {
   "cell_type": "code",
   "execution_count": 10,
   "metadata": {},
   "outputs": [],
   "source": [
    "z = ['Hi', 'Today', 'is', 'friday', 'and', 'date', 'is', 12, 'july', 2019]"
   ]
  },
  {
   "cell_type": "code",
   "execution_count": null,
   "metadata": {},
   "outputs": [],
   "source": [
    "# enumerate() gives the position as well as its values"
   ]
  },
  {
   "cell_type": "code",
   "execution_count": 11,
   "metadata": {},
   "outputs": [
    {
     "name": "stdout",
     "output_type": "stream",
     "text": [
      "(0, 'Hi')\n",
      "(1, 'Today')\n",
      "(2, 'is')\n",
      "(3, 'friday')\n",
      "(4, 'and')\n",
      "(5, 'date')\n",
      "(6, 'is')\n",
      "(7, 12)\n",
      "(8, 'july')\n",
      "(9, 2019)\n"
     ]
    }
   ],
   "source": [
    "for i in enumerate(z):\n",
    "    print(i)"
   ]
  },
  {
   "cell_type": "code",
   "execution_count": null,
   "metadata": {},
   "outputs": [],
   "source": [
    "# .format() will assign the needed values in needed format in string, specified by location"
   ]
  },
  {
   "cell_type": "code",
   "execution_count": 12,
   "metadata": {},
   "outputs": [
    {
     "name": "stdout",
     "output_type": "stream",
     "text": [
      "String is ['Hi', 'Today', 'is', 'friday', 'and', 'date', 'is', 12, 'july', 2019]\n"
     ]
    }
   ],
   "source": [
    "print(\"String is {}\" .format(z))"
   ]
  },
  {
   "cell_type": "code",
   "execution_count": 13,
   "metadata": {},
   "outputs": [
    {
     "name": "stdout",
     "output_type": "stream",
     "text": [
      "Hello Adam, your balance is  2341.567\n"
     ]
    }
   ],
   "source": [
    "print('Hello {0}, your balance is {1:9}' .format(\"Adam\", 2341.567))"
   ]
  },
  {
   "cell_type": "code",
   "execution_count": 15,
   "metadata": {},
   "outputs": [
    {
     "name": "stdout",
     "output_type": "stream",
     "text": [
      "Hello Adam, your balance is   2341.57\n"
     ]
    }
   ],
   "source": [
    "print('Hello {0}, your balance is {1:9.2f}' .format(\"Adam\", 2341.567))"
   ]
  },
  {
   "cell_type": "code",
   "execution_count": 25,
   "metadata": {},
   "outputs": [
    {
     "name": "stdout",
     "output_type": "stream",
     "text": [
      "Selected a Strings and hence friday to Hi, test on [12, 'july', 2019] \n"
     ]
    }
   ],
   "source": [
    "print(\"Selected a Strings {0} hence {2} to {1}, test on {3} \" .format(z[4], z[0], z[3], z[7:]))"
   ]
  },
  {
   "cell_type": "code",
   "execution_count": 24,
   "metadata": {},
   "outputs": [
    {
     "name": "stdout",
     "output_type": "stream",
     "text": [
      "Selected a Strings and hence Hi to friday, test on [12, 'july', 2019] \n"
     ]
    }
   ],
   "source": [
    "print(\"Selected a Strings {} hence {} to {}, test on {} \" .format(z[4], z[0], z[3], z[7:]))"
   ]
  },
  {
   "cell_type": "code",
   "execution_count": 27,
   "metadata": {},
   "outputs": [],
   "source": [
    "import numpy as np"
   ]
  },
  {
   "cell_type": "code",
   "execution_count": 28,
   "metadata": {},
   "outputs": [],
   "source": [
    "z = np.random.rand(3,3,3)"
   ]
  },
  {
   "cell_type": "code",
   "execution_count": 30,
   "metadata": {},
   "outputs": [
    {
     "data": {
      "text/plain": [
       "array([0.0918235 , 0.70689979, 0.57443111])"
      ]
     },
     "execution_count": 30,
     "metadata": {},
     "output_type": "execute_result"
    }
   ],
   "source": [
    "z[0][0]"
   ]
  },
  {
   "cell_type": "code",
   "execution_count": 32,
   "metadata": {},
   "outputs": [
    {
     "data": {
      "text/plain": [
       "array([0.95523638, 0.49273612, 0.07275759])"
      ]
     },
     "execution_count": 32,
     "metadata": {},
     "output_type": "execute_result"
    }
   ],
   "source": [
    "z[0][1]"
   ]
  },
  {
   "cell_type": "code",
   "execution_count": 33,
   "metadata": {},
   "outputs": [
    {
     "data": {
      "text/plain": [
       "array([[[0.0918235 , 0.70689979, 0.57443111],\n",
       "        [0.95523638, 0.49273612, 0.07275759],\n",
       "        [0.70056719, 0.03188481, 0.49314381]],\n",
       "\n",
       "       [[0.04142964, 0.10548945, 0.31292806],\n",
       "        [0.35593237, 0.39329675, 0.53180768],\n",
       "        [0.02935967, 0.7233095 , 0.07870534]],\n",
       "\n",
       "       [[0.74939171, 0.75331565, 0.12040093],\n",
       "        [0.44277005, 0.89213881, 0.52927567],\n",
       "        [0.77031537, 0.35875962, 0.24116928]]])"
      ]
     },
     "execution_count": 33,
     "metadata": {},
     "output_type": "execute_result"
    }
   ],
   "source": [
    "z"
   ]
  },
  {
   "cell_type": "code",
   "execution_count": null,
   "metadata": {},
   "outputs": [],
   "source": []
  }
 ],
 "metadata": {
  "kernelspec": {
   "display_name": "Python 3",
   "language": "python",
   "name": "python3"
  },
  "language_info": {
   "codemirror_mode": {
    "name": "ipython",
    "version": 3
   },
   "file_extension": ".py",
   "mimetype": "text/x-python",
   "name": "python",
   "nbconvert_exporter": "python",
   "pygments_lexer": "ipython3",
   "version": "3.7.3"
  }
 },
 "nbformat": 4,
 "nbformat_minor": 2
}
